{
 "cells": [
  {
   "cell_type": "markdown",
   "metadata": {},
   "source": [
    "# Exercise 09: Solve Captcha"
   ]
  },
  {
   "cell_type": "code",
   "execution_count": 9,
   "metadata": {},
   "outputs": [],
   "source": [
    "from requests_html import HTMLSession\n",
    "import requests\n",
    "from bs4 import BeautifulSoup\n",
    "from PIL import Image\n",
    "import pytesseract\n",
    "import io                                                                       \n",
    "import urllib3"
   ]
  },
  {
   "cell_type": "code",
   "execution_count": 29,
   "metadata": {},
   "outputs": [],
   "source": [
    "headers = {\n",
    "    'user-agent': 'Mozilla/5.0 (Windows NT 10.0; Win64; x64) AppleWebKit/537.36 (KHTML, like Gecko) Chrome/77.0.3865.120 Safari/537.36',\n",
    "    'referer': 'https://scrapingclub.com/exercise/basic_captcha/'\n",
    "}\n",
    "data = {\n",
    "    'csrfmiddlewaretoken': '',\n",
    "    'name': 'scrapingclub',\n",
    "    'password': 'scrapingclub',\n",
    "    'captcha_0': '',\n",
    "    'captcha_1': ''\n",
    "}\n",
    "pytesseract.pytesseract.tesseract_cmd = r'C:\\Program Files\\Tesseract-OCR\\tesseract.exe'"
   ]
  },
  {
   "cell_type": "code",
   "execution_count": 34,
   "metadata": {},
   "outputs": [
    {
     "name": "stdout",
     "output_type": "stream",
     "text": [
      "https://scrapingclub.com//captcha/image/769074877937eeb72b2770d4d94faaf913e9e83d/\n",
      "0\n",
      "<Response [200]>\n"
     ]
    }
   ],
   "source": [
    "with requests.Session() as s:\n",
    "    url = \"https://scrapingclub.com/exercise/basic_captcha/\"\n",
    "    r = s.get(url)\n",
    "    soup = BeautifulSoup(r.content, 'html5lib')\n",
    "    \n",
    "    csrf_token = soup.find('input', attrs = {'name': 'csrfmiddlewaretoken'})['value']\n",
    "    data['csrfmiddlewaretoken'] = csrf_token\n",
    "    \n",
    "    captcha_0 = soup.find('input', attrs = {'name': 'captcha_0'})['value']\n",
    "    data['captcha_0'] = captcha_0\n",
    "    \n",
    "    #print(type(soup.find('img', attrs = {'alt': 'captcha'})['src']))\n",
    "    \n",
    "    img_url = \"https://scrapingclub.com/\" + soup.find('img', attrs = {'alt': 'captcha'})['src']\n",
    "    print(img_url)\n",
    "    #url_opener = urllib3.PoolManager()\n",
    "    #.build_opener()                                     \n",
    "    #url_opener.addheaders.append(('Cookie', 'PHPSESSID=xyz'))  \n",
    "    img_bytes = s.get(img_url)\n",
    "    img = Image.open(io.BytesIO(img_bytes.content))                                 \n",
    "    captcha = pytesseract.image_to_string(img)                              \n",
    "    print(len(captcha))\n",
    "\n",
    "    r = s.post(url, data = data, headers = headers) #, headers = r.headers\n",
    "    print(r)"
   ]
  },
  {
   "cell_type": "code",
   "execution_count": null,
   "metadata": {},
   "outputs": [],
   "source": []
  },
  {
   "cell_type": "code",
   "execution_count": 31,
   "metadata": {},
   "outputs": [
    {
     "data": {
      "text/plain": [
       "'In this exercise, you need to use username scrapingclub and password scrapingclub to login in, after you successfully login in, you will be redirected in a welcome page.'"
      ]
     },
     "execution_count": 31,
     "metadata": {},
     "output_type": "execute_result"
    }
   ],
   "source": [
    "soup = BeautifulSoup(r.content, 'html5lib')\n",
    "soup.find('p').text"
   ]
  }
 ],
 "metadata": {
  "kernelspec": {
   "display_name": "Python 3",
   "language": "python",
   "name": "python3"
  },
  "language_info": {
   "codemirror_mode": {
    "name": "ipython",
    "version": 3
   },
   "file_extension": ".py",
   "mimetype": "text/x-python",
   "name": "python",
   "nbconvert_exporter": "python",
   "pygments_lexer": "ipython3",
   "version": "3.7.1"
  }
 },
 "nbformat": 4,
 "nbformat_minor": 4
}
