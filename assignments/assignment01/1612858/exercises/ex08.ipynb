{
 "cells": [
  {
   "cell_type": "markdown",
   "metadata": {},
   "source": [
    "# Exercise 08: Login Form"
   ]
  },
  {
   "cell_type": "code",
   "execution_count": 1,
   "metadata": {},
   "outputs": [],
   "source": [
    "from requests_html import HTMLSession\n",
    "import requests\n",
    "from bs4 import BeautifulSoup"
   ]
  },
  {
   "cell_type": "code",
   "execution_count": 2,
   "metadata": {},
   "outputs": [],
   "source": [
    "headers = {\n",
    "    'user-agent': 'Mozilla/5.0 (Windows NT 10.0; Win64; x64) AppleWebKit/537.36 (KHTML, like Gecko) Chrome/77.0.3865.120 Safari/537.36',\n",
    "    'referer': 'https://scrapingclub.com/exercise/basic_login/'\n",
    "}\n",
    "data = {\n",
    "    'csrfmiddlewaretoken': '',\n",
    "    'name': 'scrapingclub',\n",
    "    'password': 'scrapingclub'\n",
    "}"
   ]
  },
  {
   "cell_type": "code",
   "execution_count": 3,
   "metadata": {},
   "outputs": [
    {
     "name": "stdout",
     "output_type": "stream",
     "text": [
      "<Response [200]>\n"
     ]
    }
   ],
   "source": [
    "with requests.Session() as s:\n",
    "    url = \"https://scrapingclub.com/exercise/basic_login/\"\n",
    "    r = s.get(url)\n",
    "    soup = BeautifulSoup(r.content, 'html5lib')\n",
    "    csrf_token = soup.find('input', attrs = {'name': 'csrfmiddlewaretoken'})['value']\n",
    "    data['csrfmiddlewaretoken'] = csrf_token\n",
    "    r = s.post(url, data = data, headers = headers) #, headers = r.headers\n",
    "    print(r)"
   ]
  },
  {
   "cell_type": "code",
   "execution_count": 4,
   "metadata": {},
   "outputs": [
    {
     "data": {
      "text/plain": [
       "'You have successfully login in, Congratulations'"
      ]
     },
     "execution_count": 4,
     "metadata": {},
     "output_type": "execute_result"
    }
   ],
   "source": [
    "soup = BeautifulSoup(r.content, 'html5lib')\n",
    "soup.find('p').text"
   ]
  }
 ],
 "metadata": {
  "kernelspec": {
   "display_name": "Python 3",
   "language": "python",
   "name": "python3"
  },
  "language_info": {
   "codemirror_mode": {
    "name": "ipython",
    "version": 3
   },
   "file_extension": ".py",
   "mimetype": "text/x-python",
   "name": "python",
   "nbconvert_exporter": "python",
   "pygments_lexer": "ipython3",
   "version": "3.7.1"
  }
 },
 "nbformat": 4,
 "nbformat_minor": 4
}
