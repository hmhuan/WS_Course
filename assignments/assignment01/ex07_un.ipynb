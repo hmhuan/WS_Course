{
 "cells": [
  {
   "cell_type": "markdown",
   "metadata": {},
   "source": [
    "## Exercise 07: Find gold in cookies"
   ]
  },
  {
   "cell_type": "code",
   "execution_count": 1,
   "metadata": {},
   "outputs": [],
   "source": [
    "from requests_html import HTMLSession\n",
    "import requests"
   ]
  },
  {
   "cell_type": "code",
   "execution_count": 2,
   "metadata": {},
   "outputs": [],
   "source": [
    "session = HTMLSession()\n",
    "url = 'https://scrapingclub.com/exercise/detail_cookie/'"
   ]
  },
  {
   "cell_type": "code",
   "execution_count": 3,
   "metadata": {},
   "outputs": [
    {
     "data": {
      "text/plain": [
       "'Find gold in cookie | ScrapingClub\\nHome (current)\\nBlog\\nAbout\\nContact\\nSubscribe\\nTry to extract the product detail such as title, desc and price.\\nTips:\\nAfter some tests, you might find out it is hard to make the spider get the data through normal Ajax, so you need to dive into the detail of the ajax request.\\nYou need to make sure the URL, HTTP header, cookie values are all reasonable just like what your browser does.\\nExercise List\\nBasic Info Scraping\\nWeb scraping using XPath or CSS expression\\nAnalyze JSON\\nLoad JSON string and extract data\\nRecursively Scraping pages\\nNot only crawl products but also handle pagination\\nMimicking Ajax requests\\nInspect Ajax requests and mimic them\\nInspect HTTP request\\nLearn to inspect the fields of HTTP request\\nScraping Infinite Scrolling Pages (Ajax)\\nLearn to scrape infinite scrolling pages\\nFind gold in cookie\\nMake your spider can work with the cookie\\nLogin form\\nScrape data behind login form\\nSolve Captcha\\nLearn to scrape data behind a captcha\\nDecode minified javascript\\nLearn how to analyze minimized or compressed javascript\\nMade with ❤ by MichaelYin\\nwindow.dataLayer = window.dataLayer || []; function gtag(){dataLayer.push(arguments);} gtag(\\'js\\', new Date()); gtag(\\'config\\', \\'UA-39890589-8\\'); $(function() { var token = $.cookie(\\'token\\'); $.ajax({ type: \"GET\", url: \"/exercise/ajaxdetail_cookie/\" + \"?token=\" + token, success: function(obj) { $(\".card-title\").html(obj.title); $(\".card-price\").html(obj.price); $(\".card-description\").html(obj.description); $(\"img.card-img-top\").attr(\\'src\\', obj.img_path); }, error: function(err) { alert(\"something is wrong in webapp\"); }, }); });'"
      ]
     },
     "execution_count": 3,
     "metadata": {},
     "output_type": "execute_result"
    }
   ],
   "source": [
    "req = session.get(url)\n",
    "req.html.text"
   ]
  }
 ],
 "metadata": {
  "kernelspec": {
   "display_name": "Python 3",
   "language": "python",
   "name": "python3"
  },
  "language_info": {
   "codemirror_mode": {
    "name": "ipython",
    "version": 3
   },
   "file_extension": ".py",
   "mimetype": "text/x-python",
   "name": "python",
   "nbconvert_exporter": "python",
   "pygments_lexer": "ipython3",
   "version": "3.7.1"
  }
 },
 "nbformat": 4,
 "nbformat_minor": 4
}
