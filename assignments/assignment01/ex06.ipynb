{
 "cells": [
  {
   "cell_type": "code",
   "execution_count": 23,
   "metadata": {},
   "outputs": [],
   "source": [
    "from requests_html import HTMLSession\n",
    "import time"
   ]
  },
  {
   "cell_type": "code",
   "execution_count": 2,
   "metadata": {},
   "outputs": [],
   "source": [
    "session = HTMLSession()"
   ]
  },
  {
   "cell_type": "code",
   "execution_count": 3,
   "metadata": {},
   "outputs": [],
   "source": [
    "def get_sub_page(url):\n",
    "    session = HTMLSession()\n",
    "    req = session.get(url)\n",
    "    card_body = req.html.find('div.card-body', first = True)\n",
    "    return {'title': card_body.find('h3', first = True).text,\n",
    "            'price': card_body.find('h4', first = True).text,\n",
    "            'desc': card_body.find('p', first = True).text}"
   ]
  },
  {
   "cell_type": "code",
   "execution_count": 24,
   "metadata": {},
   "outputs": [
    {
     "name": "stdout",
     "output_type": "stream",
     "text": [
      "https://scrapingclub.com/exercise/list_infinite_scroll/\n",
      "https://scrapingclub.com/exercise/list_detail_infinite_scroll/90008-E/\n",
      "https://scrapingclub.com/exercise/list_detail_infinite_scroll/96436-A/\n",
      "https://scrapingclub.com/exercise/list_detail_infinite_scroll/93926-B/\n",
      "https://scrapingclub.com/exercise/list_detail_infinite_scroll/90882-B/\n",
      "https://scrapingclub.com/exercise/list_detail_infinite_scroll/93756-C/\n",
      "https://scrapingclub.com/exercise/list_detail_infinite_scroll/93926-C/\n",
      "https://scrapingclub.com/exercise/list_detail_infinite_scroll/93756-B/\n",
      "https://scrapingclub.com/exercise/list_detail_infinite_scroll/93756-D/\n",
      "https://scrapingclub.com/exercise/list_detail_infinite_scroll/96643-A/\n",
      "https://scrapingclub.com/exercise/detail_basic/\n",
      "https://scrapingclub.com/exercise/list_infinite_scroll/?page=2\n",
      "https://scrapingclub.com/exercise/list_detail_infinite_scroll/94766-A/\n",
      "https://scrapingclub.com/exercise/list_detail_infinite_scroll/91696-C/\n",
      "https://scrapingclub.com/exercise/list_detail_infinite_scroll/93745-A/\n",
      "https://scrapingclub.com/exercise/list_detail_infinite_scroll/65763-E/\n",
      "https://scrapingclub.com/exercise/list_detail_infinite_scroll/70745-D/\n",
      "https://scrapingclub.com/exercise/list_detail_infinite_scroll/94706-A/\n",
      "https://scrapingclub.com/exercise/list_detail_infinite_scroll/96230-B/\n",
      "https://scrapingclub.com/exercise/list_detail_infinite_scroll/73840-F/\n",
      "https://scrapingclub.com/exercise/list_detail_infinite_scroll/65763-A/\n",
      "https://scrapingclub.com/exercise/detail_basic/\n",
      "https://scrapingclub.com/exercise/list_infinite_scroll/?page=3\n",
      "https://scrapingclub.com/exercise/list_detail_infinite_scroll/96230-A/\n",
      "https://scrapingclub.com/exercise/list_detail_infinite_scroll/73840-P/\n",
      "https://scrapingclub.com/exercise/list_detail_infinite_scroll/73840-Q/\n",
      "https://scrapingclub.com/exercise/list_detail_infinite_scroll/96113-C/\n",
      "https://scrapingclub.com/exercise/list_detail_infinite_scroll/96230-C/\n",
      "https://scrapingclub.com/exercise/list_detail_infinite_scroll/00959-A/\n",
      "https://scrapingclub.com/exercise/list_detail_infinite_scroll/94323-B/\n",
      "https://scrapingclub.com/exercise/list_detail_infinite_scroll/71342-J/\n",
      "https://scrapingclub.com/exercise/list_detail_infinite_scroll/94453-B/\n",
      "https://scrapingclub.com/exercise/detail_basic/\n",
      "https://scrapingclub.com/exercise/list_infinite_scroll/?page=4\n",
      "https://scrapingclub.com/exercise/list_detail_infinite_scroll/34975-K/\n",
      "https://scrapingclub.com/exercise/list_detail_infinite_scroll/59851-A/\n",
      "https://scrapingclub.com/exercise/list_detail_infinite_scroll/93811-A/\n",
      "https://scrapingclub.com/exercise/list_detail_infinite_scroll/94967-A/\n",
      "https://scrapingclub.com/exercise/list_detail_infinite_scroll/92905-A/\n",
      "https://scrapingclub.com/exercise/list_detail_infinite_scroll/97504-A/\n",
      "https://scrapingclub.com/exercise/list_detail_infinite_scroll/93811-B/\n",
      "https://scrapingclub.com/exercise/list_detail_infinite_scroll/95168-D/\n",
      "https://scrapingclub.com/exercise/list_detail_infinite_scroll/52378-D/\n",
      "https://scrapingclub.com/exercise/detail_basic/\n",
      "https://scrapingclub.com/exercise/list_infinite_scroll/?page=5\n",
      "https://scrapingclub.com/exercise/list_detail_infinite_scroll/60135-A/\n",
      "https://scrapingclub.com/exercise/list_detail_infinite_scroll/91865-A/\n",
      "https://scrapingclub.com/exercise/list_detail_infinite_scroll/94323-A/\n",
      "https://scrapingclub.com/exercise/list_detail_infinite_scroll/92942-B/\n",
      "https://scrapingclub.com/exercise/list_detail_infinite_scroll/93270-A/\n",
      "https://scrapingclub.com/exercise/list_detail_infinite_scroll/96230-D/\n",
      "https://scrapingclub.com/exercise/list_detail_infinite_scroll/97571-B/\n",
      "https://scrapingclub.com/exercise/list_detail_infinite_scroll/92740-A/\n",
      "https://scrapingclub.com/exercise/list_detail_infinite_scroll/94984-A/\n",
      "https://scrapingclub.com/exercise/detail_basic/\n",
      "https://scrapingclub.com/exercise/list_infinite_scroll/?page=6\n",
      "https://scrapingclub.com/exercise/list_detail_infinite_scroll/96236-C/\n",
      "https://scrapingclub.com/exercise/list_detail_infinite_scroll/99663-A/\n",
      "https://scrapingclub.com/exercise/list_detail_infinite_scroll/00268-B/\n",
      "https://scrapingclub.com/exercise/list_detail_infinite_scroll/98209-A/\n",
      "https://scrapingclub.com/exercise/list_detail_infinite_scroll/93158-A/\n",
      "https://scrapingclub.com/exercise/list_detail_infinite_scroll/00948-B/\n",
      "https://scrapingclub.com/exercise/list_detail_infinite_scroll/94321-B/\n",
      "https://scrapingclub.com/exercise/list_detail_infinite_scroll/98086-A/\n",
      "https://scrapingclub.com/exercise/list_detail_infinite_scroll/01007-C/\n",
      "https://scrapingclub.com/exercise/detail_basic/\n",
      "https://scrapingclub.com/exercise/list_infinite_scroll/?page=7\n",
      "https://scrapingclub.com/exercise/list_detail_infinite_scroll/98894-A/\n",
      "https://scrapingclub.com/exercise/list_detail_infinite_scroll/00286-B/\n",
      "https://scrapingclub.com/exercise/list_detail_infinite_scroll/96113-B/\n",
      "https://scrapingclub.com/exercise/list_detail_infinite_scroll/96771-B/\n",
      "https://scrapingclub.com/exercise/list_detail_infinite_scroll/96771-A/\n",
      "https://scrapingclub.com/exercise/list_detail_infinite_scroll/93086-B/\n",
      "https://scrapingclub.com/exercise/detail_basic/\n"
     ]
    }
   ],
   "source": [
    "reqs = session.get('https://scrapingclub.com/exercise/list_infinite_scroll')\n",
    "cards = []\n",
    "for req in reqs.html:\n",
    "    print(req.url)\n",
    "    cards_html = req.find('div.card')\n",
    "    for card in cards_html:\n",
    "        card_link = 'https://scrapingclub.com' + card.find('a')[0].attrs['href']\n",
    "        print(card_link)\n",
    "        cards.append(get_sub_page(card_link))\n",
    "        time.sleep(1)\n",
    "        #card_title = card.find('h4', first = True)\n",
    "        #card_price = card.find('h5', first = True)\n",
    "        #if (card_title != None):\n",
    "        #    title = card_title.text\n",
    "        #    print(title, end = \" - \")\n",
    "        #if (card_price != None):\n",
    "        #    price = card_price.text\n",
    "        #    print(price)\n",
    "        #    cards.append({title: price})\n",
    "#cards"
   ]
  },
  {
   "cell_type": "code",
   "execution_count": 25,
   "metadata": {},
   "outputs": [
    {
     "data": {
      "text/plain": [
       "67"
      ]
     },
     "execution_count": 25,
     "metadata": {},
     "output_type": "execute_result"
    }
   ],
   "source": [
    "len(cards)"
   ]
  }
 ],
 "metadata": {
  "kernelspec": {
   "display_name": "Python 3",
   "language": "python",
   "name": "python3"
  },
  "language_info": {
   "codemirror_mode": {
    "name": "ipython",
    "version": 3
   },
   "file_extension": ".py",
   "mimetype": "text/x-python",
   "name": "python",
   "nbconvert_exporter": "python",
   "pygments_lexer": "ipython3",
   "version": "3.7.1"
  }
 },
 "nbformat": 4,
 "nbformat_minor": 4
}
