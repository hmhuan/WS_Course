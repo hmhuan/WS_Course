{
 "cells": [
  {
   "cell_type": "markdown",
   "metadata": {},
   "source": [
    "## Exercise 07: Find gold in cookies"
   ]
  },
  {
   "cell_type": "code",
   "execution_count": 1,
   "metadata": {},
   "outputs": [],
   "source": [
    "from requests_html import HTMLSession\n",
    "import requests\n",
    "import re\n",
    "from bs4 import BeautifulSoup"
   ]
  },
  {
   "cell_type": "code",
   "execution_count": 2,
   "metadata": {},
   "outputs": [],
   "source": [
    "session = HTMLSession()\n",
    "url = 'https://scrapingclub.com/exercise/detail_cookie/'\n",
    "domain = 'https://scrapingclub.com'"
   ]
  },
  {
   "cell_type": "code",
   "execution_count": 3,
   "metadata": {},
   "outputs": [],
   "source": [
    "#headers = {\n",
    "#    'user-agent': 'Mozilla/5.0 (Windows NT 10.0; Win64; x64) AppleWebKit/537.36 (KHTML, like Gecko) Chrome/77.0.3865.120 Safari/537.36',\n",
    "#    'referer': url,\n",
    "#    'x-requested-with': 'XMLHttpRequest'\n",
    "#}\n",
    "headers = {}"
   ]
  },
  {
   "cell_type": "code",
   "execution_count": 4,
   "metadata": {},
   "outputs": [
    {
     "name": "stdout",
     "output_type": "stream",
     "text": [
      "KeysView({'User-Agent': 'python-requests/2.22.0', 'Accept-Encoding': 'gzip, deflate', 'Accept': '*/*', 'Connection': 'keep-alive'})\n",
      "https://scrapingclub.com/exercise/ajaxdetail_cookie/?token=17LO9YYKCG\n",
      "<Response [200]>\n"
     ]
    }
   ],
   "source": [
    "with requests.Session() as s:\n",
    "    r = s.get(url)\n",
    "    print(s.headers.keys())\n",
    "    headers['user-agent'] = s.headers['user-agent']\n",
    "    headers['x-requested-with'] = 'XMLHttpRequest'\n",
    "    #print(r.headers)\n",
    "    #print(headers)\n",
    "    soup = BeautifulSoup(r.content, 'html5lib')\n",
    "    token_cookies = re.findall(r'token=(.*?);', r.headers['set-cookie'])\n",
    "    new_url = domain + '/exercise/ajaxdetail_cookie/?token=' + token_cookies[0]\n",
    "    print(new_url)\n",
    "    r = s.get(new_url, headers = headers) #, headers = r.headers\n",
    "    print(r)"
   ]
  },
  {
   "cell_type": "code",
   "execution_count": 5,
   "metadata": {},
   "outputs": [
    {
     "data": {
      "text/plain": [
       "{'img_path': '/static/img/94323-B.jpg',\n",
       " 'price': '$29.99',\n",
       " 'description': 'Short bib overall dress in twill. Shoulder straps tied together with metal eyelets at top. Chest pocket, front pockets, and back pockets. Unlined. 58% cotton, 42% lyocell. Machine wash cold.',\n",
       " 'title': 'Bib Overall Dress'}"
      ]
     },
     "execution_count": 5,
     "metadata": {},
     "output_type": "execute_result"
    }
   ],
   "source": [
    "desc = r.json()\n",
    "desc"
   ]
  },
  {
   "cell_type": "code",
   "execution_count": 6,
   "metadata": {},
   "outputs": [
    {
     "name": "stdout",
     "output_type": "stream",
     "text": [
      "KeysView({'User-Agent': 'Mozilla/5.0 (Macintosh; Intel Mac OS X 10_12_6) AppleWebKit/603.3.8 (KHTML, like Gecko) Version/10.1.2 Safari/603.3.8', 'Accept-Encoding': 'gzip, deflate', 'Accept': '*/*', 'Connection': 'keep-alive'})\n",
      "https://scrapingclub.com/exercise/ajaxdetail_cookie/?token=YLDMJO2SR9\n",
      "<Response [200]>\n"
     ]
    }
   ],
   "source": [
    "headers = {}\n",
    "r = session.head(url)\n",
    "print(session.headers.keys())\n",
    "headers['user-agent'] = session.headers['user-agent']\n",
    "headers['x-requested-with'] = 'XMLHttpRequest'\n",
    "headers['referer'] = url\n",
    "#print(headers)\n",
    "token_cookies = re.findall(r'token=(.*?);', r.headers['set-cookie'])\n",
    "new_url = domain + '/exercise/ajaxdetail_cookie/?token=' + token_cookies[0]\n",
    "print(new_url)\n",
    "r = session.get(new_url, headers = headers)\n",
    "print(r)"
   ]
  },
  {
   "cell_type": "code",
   "execution_count": 7,
   "metadata": {},
   "outputs": [
    {
     "data": {
      "text/plain": [
       "{'img_path': '/static/img/94323-B.jpg',\n",
       " 'price': '$29.99',\n",
       " 'description': 'Short bib overall dress in twill. Shoulder straps tied together with metal eyelets at top. Chest pocket, front pockets, and back pockets. Unlined. 58% cotton, 42% lyocell. Machine wash cold.',\n",
       " 'title': 'Bib Overall Dress'}"
      ]
     },
     "execution_count": 7,
     "metadata": {},
     "output_type": "execute_result"
    }
   ],
   "source": [
    "desc = r.json()\n",
    "desc"
   ]
  }
 ],
 "metadata": {
  "kernelspec": {
   "display_name": "Python 3",
   "language": "python",
   "name": "python3"
  },
  "language_info": {
   "codemirror_mode": {
    "name": "ipython",
    "version": 3
   },
   "file_extension": ".py",
   "mimetype": "text/x-python",
   "name": "python",
   "nbconvert_exporter": "python",
   "pygments_lexer": "ipython3",
   "version": "3.7.1"
  }
 },
 "nbformat": 4,
 "nbformat_minor": 4
}
