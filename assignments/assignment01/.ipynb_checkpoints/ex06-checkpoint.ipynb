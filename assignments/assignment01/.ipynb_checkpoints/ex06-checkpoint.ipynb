{
 "cells": [
  {
   "cell_type": "code",
   "execution_count": 1,
   "metadata": {},
   "outputs": [],
   "source": [
    "from requests_html import HTMLSession"
   ]
  },
  {
   "cell_type": "code",
   "execution_count": 2,
   "metadata": {},
   "outputs": [],
   "source": [
    "session = HTMLSession()"
   ]
  },
  {
   "cell_type": "code",
   "execution_count": 27,
   "metadata": {},
   "outputs": [
    {
     "name": "stdout",
     "output_type": "stream",
     "text": [
      "Short Dress - $24.99\n",
      "Patterned Slacks - $29.99\n",
      "Short Chiffon Dress - $49.99\n",
      "Off-the-shoulder Dress - $59.99\n",
      "V-neck Top - $24.99\n",
      "Short Chiffon Dress - $49.99\n",
      "V-neck Top - $24.99\n",
      "V-neck Top - $24.99\n",
      "Short Lace Dress - $59.99\n",
      "Fitted Dress - $34.99\n",
      "V-neck Jumpsuit - $69.99\n",
      "Chiffon Dress - $54.99\n",
      "Skinny High Waist Jeans - $39.99\n",
      "Super Skinny High Jeans - $19.99\n",
      "Oversized Denim Jacket - $19.99\n",
      "Short Sweatshirt - $24.99\n",
      "Long-sleeved Jersey Top - $12.99\n",
      "Skinny High Waist Jeans - $39.99\n",
      "Short Sweatshirt - $24.99\n",
      "Long-sleeved Jersey Top - $12.99\n",
      "Long-sleeved Jersey Top - $12.99\n",
      "Jersey Dress - $19.99\n",
      "Short Sweatshirt - $24.99\n",
      "Crinkled Flounced Blouse - $24.99\n",
      "Bib Overall Dress - $29.99\n",
      "Loose-knit Sweater - $17.99\n",
      "Skinny Regular Jeans - $29.99\n",
      "Henley-style Top - $12.99\n",
      "Joggers - $17.99\n",
      "Skirt with Lacing - $34.99\n",
      "Top with Tie - $17.99\n",
      "Joggers - $34.99\n",
      "Chiffon Dress with Flounce - $49.99\n",
      "Skirt with Lacing - $34.99\n",
      "V-neck Top - $9.99\n",
      "Hooded Jacket - $29.99\n",
      "Hooded Top - $29.99\n",
      "Lyocell-blend Blouse - $34.99\n",
      "Bib Overall Dress - $29.99\n",
      "Wide-leg Pants - $34.99\n",
      "Ankle-length Slim-fit Pants - $24.99\n",
      "Short Sweatshirt - $9.99\n",
      "V-neck Blouse - $17.99\n",
      "Short Skirt - $24.99\n",
      "Mesh T-shirt - $17.99\n",
      "Blouse with Embroidery - $59.99\n",
      "Wide-cut Cotton Top - $34.99\n",
      "Pleated Skirt - $54.99\n",
      "Coat - $69.99\n",
      "Wide-leg Pants - $49.99\n",
      "Top - $29.99\n",
      "Knit Mohair-blend Sweater - $69.99\n",
      "Dress - $69.99\n",
      "T-shirt with Embroidery - $29.99\n",
      "Blouse with Ruffled Collar - $49.99\n",
      "Pants - $49.99\n",
      "Jersey Dress - $19.99\n",
      "T-shirt - $6.99\n",
      "T-shirt - $6.99\n",
      "Blazer - $49.99\n"
     ]
    },
    {
     "data": {
      "text/plain": [
       "[{'Short Dress': '$24.99'},\n",
       " {'Patterned Slacks': '$29.99'},\n",
       " {'Short Chiffon Dress': '$49.99'},\n",
       " {'Off-the-shoulder Dress': '$59.99'},\n",
       " {'V-neck Top': '$24.99'},\n",
       " {'Short Chiffon Dress': '$49.99'},\n",
       " {'V-neck Top': '$24.99'},\n",
       " {'V-neck Top': '$24.99'},\n",
       " {'Short Lace Dress': '$59.99'},\n",
       " {'Fitted Dress': '$34.99'},\n",
       " {'V-neck Jumpsuit': '$69.99'},\n",
       " {'Chiffon Dress': '$54.99'},\n",
       " {'Skinny High Waist Jeans': '$39.99'},\n",
       " {'Super Skinny High Jeans': '$19.99'},\n",
       " {'Oversized Denim Jacket': '$19.99'},\n",
       " {'Short Sweatshirt': '$24.99'},\n",
       " {'Long-sleeved Jersey Top': '$12.99'},\n",
       " {'Skinny High Waist Jeans': '$39.99'},\n",
       " {'Short Sweatshirt': '$24.99'},\n",
       " {'Long-sleeved Jersey Top': '$12.99'},\n",
       " {'Long-sleeved Jersey Top': '$12.99'},\n",
       " {'Jersey Dress': '$19.99'},\n",
       " {'Short Sweatshirt': '$24.99'},\n",
       " {'Crinkled Flounced Blouse': '$24.99'},\n",
       " {'Bib Overall Dress': '$29.99'},\n",
       " {'Loose-knit Sweater': '$17.99'},\n",
       " {'Skinny Regular Jeans': '$29.99'},\n",
       " {'Henley-style Top': '$12.99'},\n",
       " {'Joggers': '$17.99'},\n",
       " {'Skirt with Lacing': '$34.99'},\n",
       " {'Top with Tie': '$17.99'},\n",
       " {'Joggers': '$34.99'},\n",
       " {'Chiffon Dress with Flounce': '$49.99'},\n",
       " {'Skirt with Lacing': '$34.99'},\n",
       " {'V-neck Top': '$9.99'},\n",
       " {'Hooded Jacket': '$29.99'},\n",
       " {'Hooded Top': '$29.99'},\n",
       " {'Lyocell-blend Blouse': '$34.99'},\n",
       " {'Bib Overall Dress': '$29.99'},\n",
       " {'Wide-leg Pants': '$34.99'},\n",
       " {'Ankle-length Slim-fit Pants': '$24.99'},\n",
       " {'Short Sweatshirt': '$9.99'},\n",
       " {'V-neck Blouse': '$17.99'},\n",
       " {'Short Skirt': '$24.99'},\n",
       " {'Mesh T-shirt': '$17.99'},\n",
       " {'Blouse with Embroidery': '$59.99'},\n",
       " {'Wide-cut Cotton Top': '$34.99'},\n",
       " {'Pleated Skirt': '$54.99'},\n",
       " {'Coat': '$69.99'},\n",
       " {'Wide-leg Pants': '$49.99'},\n",
       " {'Top': '$29.99'},\n",
       " {'Knit Mohair-blend Sweater': '$69.99'},\n",
       " {'Dress': '$69.99'},\n",
       " {'T-shirt with Embroidery': '$29.99'},\n",
       " {'Blouse with Ruffled Collar': '$49.99'},\n",
       " {'Pants': '$49.99'},\n",
       " {'Jersey Dress': '$19.99'},\n",
       " {'T-shirt': '$6.99'},\n",
       " {'T-shirt': '$6.99'},\n",
       " {'Blazer': '$49.99'}]"
      ]
     },
     "execution_count": 27,
     "metadata": {},
     "output_type": "execute_result"
    }
   ],
   "source": [
    "reqs = session.get('https://scrapingclub.com/exercise/list_infinite_scroll/')\n",
    "cards = []\n",
    "titles = {}\n",
    "for req in reqs.html:\n",
    "    cards_html = req.find('div.card-body')\n",
    "\n",
    "    for card in cards_html:\n",
    "        card_title = card.find('h4', first = True)\n",
    "        card_price = card.find('h5', first = True)\n",
    "        if (card_title != None):\n",
    "            title = card_title.text\n",
    "            print(title, end = \" - \")\n",
    "        if (card_price != None):\n",
    "            price = card_price.text\n",
    "            print(price)\n",
    "            cards.append({title: price})\n",
    "cards"
   ]
  },
  {
   "cell_type": "code",
   "execution_count": 29,
   "metadata": {},
   "outputs": [
    {
     "data": {
      "text/plain": [
       "60"
      ]
     },
     "execution_count": 29,
     "metadata": {},
     "output_type": "execute_result"
    }
   ],
   "source": [
    "len(cards)"
   ]
  }
 ],
 "metadata": {
  "kernelspec": {
   "display_name": "Python 3",
   "language": "python",
   "name": "python3"
  },
  "language_info": {
   "codemirror_mode": {
    "name": "ipython",
    "version": 3
   },
   "file_extension": ".py",
   "mimetype": "text/x-python",
   "name": "python",
   "nbconvert_exporter": "python",
   "pygments_lexer": "ipython3",
   "version": "3.7.1"
  }
 },
 "nbformat": 4,
 "nbformat_minor": 4
}
