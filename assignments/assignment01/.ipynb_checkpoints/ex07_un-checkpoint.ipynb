{
 "cells": [
  {
   "cell_type": "markdown",
   "metadata": {},
   "source": [
    "## Exercise 07: Find gold in cookies"
   ]
  },
  {
   "cell_type": "code",
   "execution_count": 1,
   "metadata": {},
   "outputs": [],
   "source": [
    "from requests_html import HTMLSession\n",
    "import requests\n",
    "import re\n",
    "from bs4 import BeautifulSoup"
   ]
  },
  {
   "cell_type": "code",
   "execution_count": null,
   "metadata": {},
   "outputs": [],
   "source": []
  },
  {
   "cell_type": "code",
   "execution_count": null,
   "metadata": {},
   "outputs": [],
   "source": []
  },
  {
   "cell_type": "code",
   "execution_count": 2,
   "metadata": {},
   "outputs": [],
   "source": [
    "session = HTMLSession()\n",
    "url = 'https://scrapingclub.com/exercise/detail_cookie/'\n",
    "domain = 'https://scrapingclub.com'"
   ]
  },
  {
   "cell_type": "code",
   "execution_count": 3,
   "metadata": {},
   "outputs": [],
   "source": [
    "r = session.get('https://scrapingclub.com/exercise/detail_cookie/')"
   ]
  },
  {
   "cell_type": "code",
   "execution_count": 4,
   "metadata": {},
   "outputs": [],
   "source": [
    "headers = {\n",
    "    'user-agent': 'Mozilla/5.0 (Windows NT 10.0; Win64; x64) AppleWebKit/537.36 (KHTML, like Gecko) Chrome/77.0.3865.120 Safari/537.36',\n",
    "    'referer': url,\n",
    "    'x-requested-with': 'XMLHttpRequest'\n",
    "}"
   ]
  },
  {
   "cell_type": "code",
   "execution_count": 5,
   "metadata": {},
   "outputs": [
    {
     "name": "stdout",
     "output_type": "stream",
     "text": [
      "{'user-agent': 'Mozilla/5.0 (Windows NT 10.0; Win64; x64) AppleWebKit/537.36 (KHTML, like Gecko) Chrome/77.0.3865.120 Safari/537.36', 'referer': 'https://scrapingclub.com/exercise/detail_cookie/', 'x-requested-with': 'XMLHttpRequest'}\n",
      "https://scrapingclub.com/exercise/ajaxdetail_cookie/?token=HOEYGX3RD2\n",
      "<Response [200]>\n"
     ]
    }
   ],
   "source": [
    "with requests.Session() as s:\n",
    "    r = s.head(url)\n",
    "    #headers = r.headers\n",
    "    print(headers)\n",
    "    soup = BeautifulSoup(r.content, 'html5lib')\n",
    "    token_cookies = re.findall(r'token=(.*?);', r.headers['set-cookie'])\n",
    "    new_url = domain + '/exercise/ajaxdetail_cookie/?token=' + token_cookies[0]\n",
    "    print(new_url)\n",
    "    r = s.get(new_url, headers = headers) #, headers = r.headers\n",
    "    print(r)"
   ]
  },
  {
   "cell_type": "code",
   "execution_count": 7,
   "metadata": {},
   "outputs": [
    {
     "name": "stdout",
     "output_type": "stream",
     "text": [
      "['O4DLT4A1JR']\n",
      "{'User-Agent': 'Mozilla/5.0 (Macintosh; Intel Mac OS X 10_12_6) AppleWebKit/603.3.8 (KHTML, like Gecko) Version/10.1.2 Safari/603.3.8', 'Accept-Encoding': 'gzip, deflate', 'Accept': '*/*', 'Connection': 'keep-alive', 'x-requested-with': 'XMLHttpRequest'}\n",
      "https://scrapingclub.com/exercise/ajaxdetail_cookie/?token=O4DLT4A1JR\n"
     ]
    },
    {
     "data": {
      "text/plain": [
       "<Response [200]>"
      ]
     },
     "execution_count": 7,
     "metadata": {},
     "output_type": "execute_result"
    }
   ],
   "source": [
    "req = session.get(url)\n",
    "token_cookies = re.findall(r'token=(.*?);', req.headers['set-cookie'])\n",
    "print(token_cookies)\n",
    "headers = session.headers\n",
    "#session.headers['referer'] = url\n",
    "headers['x-requested-with'] = 'XMLHttpRequest'\n",
    "print(headers)\n",
    "\n",
    "new_url = domain + '/exercise/ajaxdetail_cookie/?token=' + token_cookies[0]\n",
    "print(new_url)\n",
    "session.get(new_url, headers = headers)"
   ]
  }
 ],
 "metadata": {
  "kernelspec": {
   "display_name": "Python 3",
   "language": "python",
   "name": "python3"
  },
  "language_info": {
   "codemirror_mode": {
    "name": "ipython",
    "version": 3
   },
   "file_extension": ".py",
   "mimetype": "text/x-python",
   "name": "python",
   "nbconvert_exporter": "python",
   "pygments_lexer": "ipython3",
   "version": "3.7.1"
  }
 },
 "nbformat": 4,
 "nbformat_minor": 4
}
