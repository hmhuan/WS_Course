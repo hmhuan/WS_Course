{
 "cells": [
  {
   "cell_type": "code",
   "execution_count": 1,
   "metadata": {},
   "outputs": [],
   "source": [
    "from requests_html import HTMLSession"
   ]
  },
  {
   "cell_type": "code",
   "execution_count": 2,
   "metadata": {},
   "outputs": [],
   "source": [
    "session = HTMLSession()"
   ]
  },
  {
   "cell_type": "code",
   "execution_count": 50,
   "metadata": {},
   "outputs": [],
   "source": [
    "req = session.get('https://scrapingclub.com/exercise/detail_header/', \n",
    "                 headers={\n",
    "        'Referer': 'https://scrapingclub.com/exercise/ajaxdetail_header/'\n",
    "    })"
   ]
  },
  {
   "cell_type": "code",
   "execution_count": 62,
   "metadata": {},
   "outputs": [
    {
     "data": {
      "text/plain": [
       "'Inspect HTTP request | ScrapingClub\\nHome (current)\\nBlog\\nAbout\\nContact\\nSubscribe\\nSome website would check HTTP headers such as Referer to block some abnormal request.\\nTry to extract the product detail such as title, desc and price.\\nExercise List\\nBasic Info Scraping\\nWeb scraping using XPath or CSS expression\\nAnalyze JSON\\nLoad JSON string and extract data\\nRecursively Scraping pages\\nNot only crawl products but also handle pagination\\nMimicking Ajax requests\\nInspect Ajax requests and mimic them\\nInspect HTTP request\\nLearn to inspect the fields of HTTP request\\nScraping Infinite Scrolling Pages (Ajax)\\nLearn to scrape infinite scrolling pages\\nFind gold in cookie\\nMake your spider can work with the cookie\\nLogin form\\nScrape data behind login form\\nSolve Captcha\\nLearn to scrape data behind a captcha\\nDecode minified javascript\\nLearn how to analyze minimized or compressed javascript\\nMade with ❤ by MichaelYin\\nwindow.dataLayer = window.dataLayer || []; function gtag(){dataLayer.push(arguments);} gtag(\\'js\\', new Date()); gtag(\\'config\\', \\'UA-39890589-8\\'); $(function() { $.ajax({ type: \"GET\", url: \"/exercise/ajaxdetail_header/\", success: function(obj) { $(\".card-title\").html(obj.title); $(\".card-price\").html(obj.price); $(\".card-description\").html(obj.description); $(\"img.card-img-top\").attr(\\'src\\', obj.img_path); }, error: function(err) { alert(\"something is wrong in webapp\"); }, }); });'"
      ]
     },
     "execution_count": 62,
     "metadata": {},
     "output_type": "execute_result"
    }
   ],
   "source": [
    "req.html.text"
   ]
  },
  {
   "cell_type": "code",
   "execution_count": 68,
   "metadata": {},
   "outputs": [
    {
     "name": "stdout",
     "output_type": "stream",
     "text": [
      "\n",
      "<!DOCTYPE html>\n",
      "<html lang=\"en\">\n",
      "<head>\n",
      "  <meta http-equiv=\"content-type\" content=\"text/html; charset=utf-8\">\n",
      "  <meta name=\"robots\" content=\"NONE,NOARCHIVE\">\n",
      "  <title>403 Forbidden</title>\n",
      "  <style type=\"text/css\">\n",
      "    html * { padding:0; margin:0; }\n",
      "    body * { padding:10px 20px; }\n",
      "    body * * { padding:0; }\n",
      "    body { font:small sans-serif; background:#eee; }\n",
      "    body>div { border-bottom:1px solid #ddd; }\n",
      "    h1 { font-weight:normal; margin-bottom:.4em; }\n",
      "    h1 span { font-size:60%; color:#666; font-weight:normal; }\n",
      "    #info { background:#f6f6f6; }\n",
      "    #info ul { margin: 0.5em 4em; }\n",
      "    #info p, #summary p { padding-top:10px; }\n",
      "    #summary { background: #ffc; }\n",
      "    #explanation { background:#eee; border-bottom: 0px none; }\n",
      "  </style>\n",
      "</head>\n",
      "<body>\n",
      "<div id=\"summary\">\n",
      "  <h1>Forbidden <span>(403)</span></h1>\n",
      "  <p>CSRF verification failed. Request aborted.</p>\n",
      "\n",
      "\n",
      "  <p>You are seeing this message because this site requires a CSRF cookie when submitting forms. This cookie is required for security reasons, to ensure that your browser is not being hijacked by third parties.</p>\n",
      "  <p>If you have configured your browser to disable cookies, please re-enable them, at least for this site, or for &#39;same-origin&#39; requests.</p>\n",
      "\n",
      "</div>\n",
      "\n",
      "<div id=\"explanation\">\n",
      "  <p><small>More information is available with DEBUG=True.</small></p>\n",
      "</div>\n",
      "\n",
      "</body>\n",
      "</html>\n",
      "\n"
     ]
    }
   ],
   "source": [
    "from requests import Session\n",
    "\n",
    "re_session = Session()\n",
    "\n",
    "# HEAD requests ask for *just* the headers, which is all you need to grab the\n",
    "# session cookie\n",
    "res = re_session.get('https://scrapingclub.com/exercise/ajaxdetail_header/')\n",
    "cookies = dict(res.cookies)\n",
    "response = re_session.post(\n",
    "    url='https://scrapingclub.com/exercise/ajaxdetail_header/',\n",
    "    headers = {\n",
    "        'Referer': 'https://scrapingclub.com/exercise/detail_header/',\n",
    "    },\n",
    "    cookies = res.cookies\n",
    ")\n",
    "\n",
    "print(response.text)"
   ]
  },
  {
   "cell_type": "code",
   "execution_count": 45,
   "metadata": {},
   "outputs": [
    {
     "data": {
      "text/plain": [
       "\"403 Forbidden\\nhtml * { padding:0; margin:0; } body * { padding:10px 20px; } body * * { padding:0; } body { font:small sans-serif; background:#eee; } body>div { border-bottom:1px solid #ddd; } h1 { font-weight:normal; margin-bottom:.4em; } h1 span { font-size:60%; color:#666; font-weight:normal; } #info { background:#f6f6f6; } #info ul { margin: 0.5em 4em; } #info p, #summary p { padding-top:10px; } #summary { background: #ffc; } #explanation { background:#eee; border-bottom: 0px none; }\\nForbidden (403)\\nCSRF verification failed. Request aborted.\\nYou are seeing this message because this site requires a CSRF cookie when submitting forms. This cookie is required for security reasons, to ensure that your browser is not being hijacked by third parties.\\nIf you have configured your browser to disable cookies, please re-enable them, at least for this site, or for 'same-origin' requests.\\nMore information is available with DEBUG=True.\""
      ]
     },
     "execution_count": 45,
     "metadata": {},
     "output_type": "execute_result"
    }
   ],
   "source": [
    "post.html.text"
   ]
  }
 ],
 "metadata": {
  "kernelspec": {
   "display_name": "Python 3",
   "language": "python",
   "name": "python3"
  },
  "language_info": {
   "codemirror_mode": {
    "name": "ipython",
    "version": 3
   },
   "file_extension": ".py",
   "mimetype": "text/x-python",
   "name": "python",
   "nbconvert_exporter": "python",
   "pygments_lexer": "ipython3",
   "version": "3.7.1"
  }
 },
 "nbformat": 4,
 "nbformat_minor": 4
}
