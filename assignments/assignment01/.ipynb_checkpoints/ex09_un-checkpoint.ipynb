{
 "cells": [
  {
   "cell_type": "markdown",
   "metadata": {},
   "source": [
    "# Exercise 09: Solve Captcha"
   ]
  },
  {
   "cell_type": "code",
   "execution_count": 1,
   "metadata": {},
   "outputs": [],
   "source": [
    "from requests_html import HTMLSession\n",
    "import requests\n",
    "from bs4 import BeautifulSoup      \n",
    "from py9kw import py9kw\n",
    "from base64 import b64encode,b64decode\n",
    "import urllib"
   ]
  },
  {
   "cell_type": "code",
   "execution_count": 2,
   "metadata": {},
   "outputs": [
    {
     "name": "stdout",
     "output_type": "stream",
     "text": [
      "[py9kw] Warning: You have set env_proxy=True, but http_proxy is not set!\n",
      "[py9kw] I will countine without a Proxy.\n"
     ]
    }
   ],
   "source": [
    "session = HTMLSession()\n",
    "service = py9kw('Y2IRJCLHWM4TCTSP59',True, True)"
   ]
  },
  {
   "cell_type": "code",
   "execution_count": 3,
   "metadata": {},
   "outputs": [],
   "source": [
    "headers = {\n",
    "    'user-agent': 'Mozilla/5.0 (Windows NT 10.0; Win64; x64) AppleWebKit/537.36 (KHTML, like Gecko) Chrome/77.0.3865.120 Safari/537.36',\n",
    "    'referer': 'https://scrapingclub.com/exercise/basic_captcha/',\n",
    "    'x-requested-with': 'XMLHttpRequest'\n",
    "}\n",
    "data = {\n",
    "    'csrfmiddlewaretoken': '',\n",
    "    'name': 'scrapingclub',\n",
    "    'password': 'scrapingclub',\n",
    "    'captcha_0': '',\n",
    "    'captcha_1': ''\n",
    "}"
   ]
  },
  {
   "cell_type": "code",
   "execution_count": 13,
   "metadata": {},
   "outputs": [
    {
     "name": "stdout",
     "output_type": "stream",
     "text": [
      "https://scrapingclub.com/captcha/image/68bdf3184aff51a2ccb5cc36b20f5149b0636aa3/\n",
      "[py9kw] Get aviable Credits......[209]\n",
      "[py9kw] Get aviable Credits......[209]\n",
      "209\n",
      "[py9kw] Uploading captcha...\n",
      "[py9kw] Check if the imagedata is already base64 encoded......[NO, encode it now]\n",
      "[py9kw] Priority: 8 of 10, Maxtimeout: 60 of 3999s (MAXIMUM)\n",
      "[py9kw] Upload 6872 bytes to 9kw.eu......[DONE]\n",
      "[py9kw] Uploaded => Captcha-id: 127486700\n",
      "[py9kw] Waiting until the Captcha is solved or maxtimeout has expired.\n",
      "[py9kw] Try to fetch the solved result from 9kw.eu......[No Data received!]\n",
      "[py9kw] Sleep..Zzzzz... 54s\n",
      "[py9kw] Try to fetch the solved result from 9kw.eu......[No Data received!]\n",
      "[py9kw] Sleep..Zzzzz... 48s\n",
      "[py9kw] Try to fetch the solved result from 9kw.eu......[No Data received!]\n",
      "[py9kw] Sleep..Zzzzz... 42s\n",
      "[py9kw] Try to fetch the solved result from 9kw.eu......[SUCCESS]\n",
      "[py9kw] Captcha solved! String: 'rwgh'\n",
      "[py9kw] Try to fetch the solved result from 9kw.eu......[SUCCESS]\n",
      "[py9kw] Captcha solved! String: 'rwgh'\n",
      "('rwgh', True)\n",
      "('rwgh', True)\n",
      "RWGH\n",
      "<Response [200]>\n"
     ]
    }
   ],
   "source": [
    "while (True):\n",
    "    url = \"https://scrapingclub.com/exercise/basic_captcha/\"\n",
    "    r = session.get(url)\n",
    "    soup = BeautifulSoup(r.content, 'html5lib')\n",
    "    \n",
    "    csrf_token = soup.find('input', attrs = {'name': 'csrfmiddlewaretoken'})['value']\n",
    "    data['csrfmiddlewaretoken'] = csrf_token\n",
    "    \n",
    "    captcha_0 = soup.find('input', attrs = {'name': 'captcha_0'})['value']\n",
    "    data['captcha_0'] = captcha_0\n",
    "    \n",
    "    img_url = \"https://scrapingclub.com\" + soup.find('img', attrs = {'alt': 'captcha'})['src']\n",
    "    print(img_url)\n",
    "    image_data = session.get(img_url)\n",
    "\n",
    "    if (service.getcredits() < 20):\n",
    "        break\n",
    "    print(service.getcredits())\n",
    "    service.uploadcaptcha(imagedata=image_data.content, maxtimeout=60, prio=8)\n",
    "    service.sleep()\n",
    "    service.getresult()\n",
    "    print(service.rslt)\n",
    "    result = service.rslt\n",
    "    if (result[1]):\n",
    "        print(result)\n",
    "        captcha = result[0].upper()\n",
    "        print(captcha)\n",
    "        data['captcha_1'] = captcha\n",
    "        r = session.post(url, data = data, headers = headers) #, headers = r.headers\n",
    "        break\n",
    "print(r)"
   ]
  },
  {
   "cell_type": "code",
   "execution_count": 14,
   "metadata": {},
   "outputs": [
    {
     "name": "stdout",
     "output_type": "stream",
     "text": [
      "You have successfully login in, Congratulations\n"
     ]
    }
   ],
   "source": [
    "success_msg = r.html.find('p', first = True).text\n",
    "print(success_msg)"
   ]
  }
 ],
 "metadata": {
  "kernelspec": {
   "display_name": "Python 3",
   "language": "python",
   "name": "python3"
  },
  "language_info": {
   "codemirror_mode": {
    "name": "ipython",
    "version": 3
   },
   "file_extension": ".py",
   "mimetype": "text/x-python",
   "name": "python",
   "nbconvert_exporter": "python",
   "pygments_lexer": "ipython3",
   "version": "3.7.1"
  }
 },
 "nbformat": 4,
 "nbformat_minor": 4
}
