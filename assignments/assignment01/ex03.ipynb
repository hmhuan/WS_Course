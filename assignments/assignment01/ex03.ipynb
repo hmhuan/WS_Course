{
 "cells": [
  {
   "cell_type": "code",
   "execution_count": 32,
   "metadata": {},
   "outputs": [],
   "source": [
    "from requests_html import HTMLSession\n",
    "import time"
   ]
  },
  {
   "cell_type": "code",
   "execution_count": 29,
   "metadata": {},
   "outputs": [],
   "source": [
    "session = HTMLSession()"
   ]
  },
  {
   "cell_type": "code",
   "execution_count": 49,
   "metadata": {},
   "outputs": [
    {
     "name": "stdout",
     "output_type": "stream",
     "text": [
      "<HTML url='https://scrapingclub.com/exercise/list_basic/'>\n",
      "<HTML url='https://scrapingclub.com/exercise/list_basic/?page=2'>\n",
      "<HTML url='https://scrapingclub.com/exercise/list_basic/?page=3'>\n",
      "<HTML url='https://scrapingclub.com/exercise/list_basic/?page=4'>\n",
      "<HTML url='https://scrapingclub.com/exercise/list_basic/?page=5'>\n",
      "<HTML url='https://scrapingclub.com/exercise/list_basic/?page=6'>\n",
      "<HTML url='https://scrapingclub.com/exercise/list_basic/?page=7'>\n"
     ]
    }
   ],
   "source": [
    "url = 'https://scrapingclub.com/exercise/list_basic/'\n",
    "cards = []\n",
    "while (True):\n",
    "    reqs = session.get(url)\n",
    "    if (reqs.ok):\n",
    "        print(reqs.html)\n",
    "        cards_html = reqs.html.find('div.card-body')\n",
    "        for card in cards_html:\n",
    "            if (card.find('h4', first = True) != None):\n",
    "                cards.append({card.find('h4')[0].text: card.find('h5')[0].text})\n",
    "        url = reqs.html.next()\n",
    "        if (url == None):\n",
    "            break    \n",
    "    time.sleep(1)"
   ]
  },
  {
   "cell_type": "code",
   "execution_count": 51,
   "metadata": {},
   "outputs": [
    {
     "data": {
      "text/plain": [
       "60"
      ]
     },
     "execution_count": 51,
     "metadata": {},
     "output_type": "execute_result"
    }
   ],
   "source": [
    "len(cards)"
   ]
  }
 ],
 "metadata": {
  "kernelspec": {
   "display_name": "Python 3",
   "language": "python",
   "name": "python3"
  },
  "language_info": {
   "codemirror_mode": {
    "name": "ipython",
    "version": 3
   },
   "file_extension": ".py",
   "mimetype": "text/x-python",
   "name": "python",
   "nbconvert_exporter": "python",
   "pygments_lexer": "ipython3",
   "version": "3.7.1"
  }
 },
 "nbformat": 4,
 "nbformat_minor": 4
}
