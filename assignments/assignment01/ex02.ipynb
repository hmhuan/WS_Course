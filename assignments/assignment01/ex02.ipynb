{
 "cells": [
  {
   "cell_type": "code",
   "execution_count": 1,
   "metadata": {},
   "outputs": [],
   "source": [
    "from requests_html import HTMLSession\n",
    "import time\n",
    "import json\n",
    "import requests\n",
    "import re"
   ]
  },
  {
   "cell_type": "code",
   "execution_count": 2,
   "metadata": {},
   "outputs": [],
   "source": [
    "session = HTMLSession()"
   ]
  },
  {
   "cell_type": "code",
   "execution_count": 3,
   "metadata": {},
   "outputs": [],
   "source": [
    "req = session.get('https://scrapingclub.com/exercise/detail_json/')\n",
    "#req.html.text"
   ]
  },
  {
   "cell_type": "code",
   "execution_count": 4,
   "metadata": {},
   "outputs": [],
   "source": [
    "scripts = req.html.find('script')"
   ]
  },
  {
   "cell_type": "code",
   "execution_count": 5,
   "metadata": {},
   "outputs": [
    {
     "data": {
      "text/plain": [
       "'var obj = { \"title\": \"Short Sweatshirt\", \"price\": \"$24.99\", \"description\": \"Short sweatshirt with long sleeves and ribbing at neckline, cuffs, and hem. 57% cotton, 43% polyester. Machine wash cold.\", \"img_path\": \"/static/img/\" + \"96230-C\" + \".jpg\" }; $(function() { $(\".card-title\").html(obj.title); $(\".card-price\").html(obj.price); $(\".card-description\").html(obj.description); $(\"img.card-img-top\").attr(\\'src\\', obj.img_path); });'"
      ]
     },
     "execution_count": 5,
     "metadata": {},
     "output_type": "execute_result"
    }
   ],
   "source": [
    "for script in scripts:\n",
    "    if 'obj' in script.text:\n",
    "        objStr = script.text\n",
    "        break\n",
    "objStr"
   ]
  },
  {
   "cell_type": "code",
   "execution_count": 6,
   "metadata": {},
   "outputs": [],
   "source": [
    "obj_text = re.findall(r'var obj = \\{(.*?)\\}', objStr)\n",
    "text = r'{'+ obj_text[0]+'}'\n",
    "text_edit = text.replace('\" + \"',\"\")\n",
    "#text_edit = text_edit.replace('{ \"', '{\"').replace('\" }', '\"}')\n",
    "#text_edit"
   ]
  },
  {
   "cell_type": "code",
   "execution_count": 7,
   "metadata": {},
   "outputs": [
    {
     "name": "stdout",
     "output_type": "stream",
     "text": [
      "title: Short Sweatshirt\n",
      "price: $24.99\n",
      "description: Short sweatshirt with long sleeves and ribbing at neckline, cuffs, and hem. 57% cotton, 43% polyester. Machine wash cold.\n",
      "img_path: /static/img/96230-C.jpg\n"
     ]
    }
   ],
   "source": [
    "desc_obj = json.loads(text_edit)\n",
    "for desc in desc_obj:\n",
    "    print(desc + \": \"+ desc_obj[desc])"
   ]
  }
 ],
 "metadata": {
  "kernelspec": {
   "display_name": "Python 3",
   "language": "python",
   "name": "python3"
  },
  "language_info": {
   "codemirror_mode": {
    "name": "ipython",
    "version": 3
   },
   "file_extension": ".py",
   "mimetype": "text/x-python",
   "name": "python",
   "nbconvert_exporter": "python",
   "pygments_lexer": "ipython3",
   "version": "3.7.1"
  }
 },
 "nbformat": 4,
 "nbformat_minor": 4
}
