{
 "cells": [
  {
   "cell_type": "markdown",
   "metadata": {},
   "source": [
    "## Exercise 10: Decode minified javascript"
   ]
  },
  {
   "cell_type": "code",
   "execution_count": 1,
   "metadata": {},
   "outputs": [],
   "source": [
    "from requests_html import HTMLSession\n",
    "import requests\n",
    "import re\n",
    "import json\n",
    "from hashlib import md5\n",
    "import time"
   ]
  },
  {
   "cell_type": "markdown",
   "metadata": {},
   "source": [
    "### Sử dụng requests-html + inspect rút trích thông tin"
   ]
  },
  {
   "cell_type": "code",
   "execution_count": 2,
   "metadata": {},
   "outputs": [],
   "source": [
    "session = HTMLSession()\n",
    "url = 'https://scrapingclub.com/exercise/detail_sign/'\n",
    "domain = 'https://scrapingclub.com'"
   ]
  },
  {
   "cell_type": "code",
   "execution_count": 14,
   "metadata": {},
   "outputs": [
    {
     "name": "stdout",
     "output_type": "stream",
     "text": [
      "https://scrapingclub.com//exercise/ajaxdetail_sign/?sign=c0a14b797e0a8b46859ce2c1ec1adbf7\n",
      "\n",
      "/static/img/71342-J.jpg\n",
      "$17.99\n",
      "Soft, loose-knit sweater with a V-neck, long raglan sleeves, and roll edges at cuffs and hem. Longer at back. 100% acrylic. Machine wash warm.\n",
      "Loose-knit Sweater\n"
     ]
    }
   ],
   "source": [
    "while (True):\n",
    "    r = session.get(url)\n",
    "    headers = session.headers\n",
    "    headers['x-requested-with'] = 'XMLHttpRequest'\n",
    "    token = re.findall(r'token=(.*?);',r.headers['Set-Cookie'])[0]\n",
    "    sign = md5(token.encode()).hexdigest()\n",
    "\n",
    "    API_URL = ''\n",
    "    script_tags =r.html.find('script')\n",
    "    for script_tag in script_tags:\n",
    "        tmp = re.findall(r'API_URL = \"(.*?)\"', script_tag.text)\n",
    "        if (len(tmp) > 0):\n",
    "            API_URL = tmp[0]\n",
    "            break\n",
    "    new_url = domain + API_URL + '?sign=' + sign\n",
    "    print(new_url, end = '\\n\\n')\n",
    "    r = session.get(new_url, headers = headers)\n",
    "    if (r.ok):\n",
    "        break\n",
    "    time.sleep(1)\n",
    "information = r.json()\n",
    "for detail in information:\n",
    "    print(information[detail])"
   ]
  },
  {
   "cell_type": "markdown",
   "metadata": {},
   "source": [
    "---\n",
    "### Sử dụng selenium\n",
    "\n",
    "Khi sử dụng cần phải tải driver chrome và add_HOME variable"
   ]
  },
  {
   "cell_type": "code",
   "execution_count": 4,
   "metadata": {},
   "outputs": [],
   "source": [
    "from selenium import webdriver\n",
    "from selenium.webdriver.common.keys import Keys"
   ]
  },
  {
   "cell_type": "code",
   "execution_count": 5,
   "metadata": {},
   "outputs": [],
   "source": [
    "# Mở Chrome và cho full màn hình\n",
    "browser = webdriver.Chrome()\n",
    "browser.maximize_window()"
   ]
  },
  {
   "cell_type": "code",
   "execution_count": 6,
   "metadata": {},
   "outputs": [],
   "source": [
    "browser.get('https://scrapingclub.com/exercise/detail_sign/')\n",
    "\n",
    "title = browser.find_element_by_css_selector('h4.card-title').text\n",
    "price = browser.find_element_by_css_selector('h4.card-price').text\n",
    "description = browser.find_element_by_css_selector('p.card-description').text"
   ]
  },
  {
   "cell_type": "code",
   "execution_count": 10,
   "metadata": {},
   "outputs": [
    {
     "name": "stdout",
     "output_type": "stream",
     "text": [
      "Loose-knit Sweater\n",
      "$17.99\n",
      "Soft, loose-knit sweater with a V-neck, long raglan sleeves, and roll edges at cuffs and hem. Longer at back. 100% acrylic. Machine wash warm.\n"
     ]
    }
   ],
   "source": [
    "print(title)\n",
    "print(price)\n",
    "print(description)"
   ]
  },
  {
   "cell_type": "code",
   "execution_count": 11,
   "metadata": {},
   "outputs": [],
   "source": [
    "browser.quit()"
   ]
  }
 ],
 "metadata": {
  "kernelspec": {
   "display_name": "Python 3",
   "language": "python",
   "name": "python3"
  },
  "language_info": {
   "codemirror_mode": {
    "name": "ipython",
    "version": 3
   },
   "file_extension": ".py",
   "mimetype": "text/x-python",
   "name": "python",
   "nbconvert_exporter": "python",
   "pygments_lexer": "ipython3",
   "version": "3.7.1"
  }
 },
 "nbformat": 4,
 "nbformat_minor": 4
}
