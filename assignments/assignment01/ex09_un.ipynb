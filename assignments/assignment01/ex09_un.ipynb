{
 "cells": [
  {
   "cell_type": "markdown",
   "metadata": {},
   "source": [
    "# Exercise 09: Solve Captcha"
   ]
  },
  {
   "cell_type": "code",
   "execution_count": 1,
   "metadata": {},
   "outputs": [],
   "source": [
    "from requests_html import HTMLSession\n",
    "import requests\n",
    "from bs4 import BeautifulSoup\n",
    "from PIL import Image\n",
    "import pytesseract\n",
    "import io                                                                       \n",
    "from captcha_solver import CaptchaSolver"
   ]
  },
  {
   "cell_type": "code",
   "execution_count": 11,
   "metadata": {},
   "outputs": [],
   "source": [
    "headers = {\n",
    "    'user-agent': 'Mozilla/5.0 (Windows NT 10.0; Win64; x64) AppleWebKit/537.36 (KHTML, like Gecko) Chrome/77.0.3865.120 Safari/537.36',\n",
    "    'referer': 'https://scrapingclub.com/exercise/basic_captcha/'\n",
    "}\n",
    "data = {\n",
    "    'csrfmiddlewaretoken': '',\n",
    "    'name': 'scrapingclub',\n",
    "    'password': 'scrapingclub',\n",
    "    'captcha_0': '',\n",
    "    'captcha_1': ''\n",
    "}\n",
    "pytesseract.pytesseract.tesseract_cmd = r'C:\\Program Files\\Tesseract-OCR\\tesseract.exe'\n",
    "solver = CaptchaSolver('browser')"
   ]
  },
  {
   "cell_type": "code",
   "execution_count": 12,
   "metadata": {},
   "outputs": [
    {
     "name": "stdout",
     "output_type": "stream",
     "text": [
      "https://scrapingclub.com//captcha/image/65344dd826ad4c2ba7e18cf05b0bd3e69ec3f58d/\n"
     ]
    },
    {
     "ename": "SolutionTimeoutError",
     "evalue": "Service is not available. Error: <urlopen error [WinError 3] The system cannot find the path specified: ''>",
     "output_type": "error",
     "traceback": [
      "\u001b[1;31m---------------------------------------------------------------------------\u001b[0m",
      "\u001b[1;31mSolutionTimeoutError\u001b[0m                      Traceback (most recent call last)",
      "\u001b[1;32m<ipython-input-12-bdc115eb0419>\u001b[0m in \u001b[0;36m<module>\u001b[1;34m\u001b[0m\n\u001b[0;32m     20\u001b[0m     \u001b[0mimg\u001b[0m \u001b[1;33m=\u001b[0m \u001b[0mImage\u001b[0m\u001b[1;33m.\u001b[0m\u001b[0mopen\u001b[0m\u001b[1;33m(\u001b[0m\u001b[0mio\u001b[0m\u001b[1;33m.\u001b[0m\u001b[0mBytesIO\u001b[0m\u001b[1;33m(\u001b[0m\u001b[0mimg_bytes\u001b[0m\u001b[1;33m.\u001b[0m\u001b[0mcontent\u001b[0m\u001b[1;33m)\u001b[0m\u001b[1;33m)\u001b[0m\u001b[1;33m\u001b[0m\u001b[1;33m\u001b[0m\u001b[0m\n\u001b[0;32m     21\u001b[0m     \u001b[1;31m#captcha = pytesseract.image_to_string(img)\u001b[0m\u001b[1;33m\u001b[0m\u001b[1;33m\u001b[0m\u001b[1;33m\u001b[0m\u001b[0m\n\u001b[1;32m---> 22\u001b[1;33m     \u001b[0mprint\u001b[0m\u001b[1;33m(\u001b[0m\u001b[0msolver\u001b[0m\u001b[1;33m.\u001b[0m\u001b[0msolve_captcha\u001b[0m\u001b[1;33m(\u001b[0m\u001b[0mimg_bytes\u001b[0m\u001b[1;33m.\u001b[0m\u001b[0mcontent\u001b[0m\u001b[1;33m)\u001b[0m\u001b[1;33m)\u001b[0m\u001b[1;33m\u001b[0m\u001b[1;33m\u001b[0m\u001b[0m\n\u001b[0m\u001b[0;32m     23\u001b[0m \u001b[1;33m\u001b[0m\u001b[0m\n\u001b[0;32m     24\u001b[0m     \u001b[0mr\u001b[0m \u001b[1;33m=\u001b[0m \u001b[0ms\u001b[0m\u001b[1;33m.\u001b[0m\u001b[0mpost\u001b[0m\u001b[1;33m(\u001b[0m\u001b[0murl\u001b[0m\u001b[1;33m,\u001b[0m \u001b[0mdata\u001b[0m \u001b[1;33m=\u001b[0m \u001b[0mdata\u001b[0m\u001b[1;33m,\u001b[0m \u001b[0mheaders\u001b[0m \u001b[1;33m=\u001b[0m \u001b[0mheaders\u001b[0m\u001b[1;33m)\u001b[0m \u001b[1;31m#, headers = r.headers\u001b[0m\u001b[1;33m\u001b[0m\u001b[1;33m\u001b[0m\u001b[0m\n",
      "\u001b[1;32mD:\\Anaconda3\\lib\\site-packages\\captcha_solver\\solver.py\u001b[0m in \u001b[0;36msolve_captcha\u001b[1;34m(self, data, submiting_time, submiting_delay, recognition_time, recognition_delay, **kwargs)\u001b[0m\n\u001b[0;32m    110\u001b[0m             \u001b[1;32melse\u001b[0m\u001b[1;33m:\u001b[0m\u001b[1;33m\u001b[0m\u001b[1;33m\u001b[0m\u001b[0m\n\u001b[0;32m    111\u001b[0m                 raise SolutionTimeoutError('Service is not available.'\n\u001b[1;32m--> 112\u001b[1;33m                                            ' Error: %s' % fail)\n\u001b[0m\u001b[0;32m    113\u001b[0m \u001b[1;33m\u001b[0m\u001b[0m\n\u001b[0;32m    114\u001b[0m         \u001b[1;32mfor\u001b[0m \u001b[0m_\u001b[0m \u001b[1;32min\u001b[0m \u001b[0mrange\u001b[0m\u001b[1;33m(\u001b[0m\u001b[1;36m0\u001b[0m\u001b[1;33m,\u001b[0m \u001b[0mrecognition_time\u001b[0m\u001b[1;33m,\u001b[0m \u001b[0mrecognition_delay\u001b[0m\u001b[1;33m)\u001b[0m\u001b[1;33m:\u001b[0m\u001b[1;33m\u001b[0m\u001b[1;33m\u001b[0m\u001b[0m\n",
      "\u001b[1;31mSolutionTimeoutError\u001b[0m: Service is not available. Error: <urlopen error [WinError 3] The system cannot find the path specified: ''>"
     ]
    }
   ],
   "source": [
    "with requests.Session() as s:\n",
    "    url = \"https://scrapingclub.com/exercise/basic_captcha/\"\n",
    "    r = s.get(url)\n",
    "    soup = BeautifulSoup(r.content, 'html5lib')\n",
    "    \n",
    "    csrf_token = soup.find('input', attrs = {'name': 'csrfmiddlewaretoken'})['value']\n",
    "    data['csrfmiddlewaretoken'] = csrf_token\n",
    "    \n",
    "    captcha_0 = soup.find('input', attrs = {'name': 'captcha_0'})['value']\n",
    "    data['captcha_0'] = captcha_0\n",
    "    \n",
    "    #print(type(soup.find('img', attrs = {'alt': 'captcha'})['src']))\n",
    "    \n",
    "    img_url = \"https://scrapingclub.com/\" + soup.find('img', attrs = {'alt': 'captcha'})['src']\n",
    "    print(img_url)\n",
    "    #url_opener = urllib3.PoolManager()\n",
    "    #.build_opener()                                     \n",
    "    #url_opener.addheaders.append(('Cookie', 'PHPSESSID=xyz'))  \n",
    "    img_bytes = s.get(img_url)\n",
    "    img = Image.open(io.BytesIO(img_bytes.content))                                 \n",
    "    #captcha = pytesseract.image_to_string(img)                              \n",
    "    print(solver.solve_captcha(img_bytes.content))\n",
    "\n",
    "    r = s.post(url, data = data, headers = headers) #, headers = r.headers\n",
    "    print(r)"
   ]
  },
  {
   "cell_type": "code",
   "execution_count": null,
   "metadata": {},
   "outputs": [],
   "source": []
  },
  {
   "cell_type": "code",
   "execution_count": 31,
   "metadata": {},
   "outputs": [
    {
     "data": {
      "text/plain": [
       "'In this exercise, you need to use username scrapingclub and password scrapingclub to login in, after you successfully login in, you will be redirected in a welcome page.'"
      ]
     },
     "execution_count": 31,
     "metadata": {},
     "output_type": "execute_result"
    }
   ],
   "source": [
    "soup = BeautifulSoup(r.content, 'html5lib')\n",
    "soup.find('p').text"
   ]
  }
 ],
 "metadata": {
  "kernelspec": {
   "display_name": "Python 3",
   "language": "python",
   "name": "python3"
  },
  "language_info": {
   "codemirror_mode": {
    "name": "ipython",
    "version": 3
   },
   "file_extension": ".py",
   "mimetype": "text/x-python",
   "name": "python",
   "nbconvert_exporter": "python",
   "pygments_lexer": "ipython3",
   "version": "3.7.1"
  }
 },
 "nbformat": 4,
 "nbformat_minor": 4
}
