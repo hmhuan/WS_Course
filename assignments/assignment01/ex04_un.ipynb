{
 "cells": [
  {
   "cell_type": "markdown",
   "metadata": {},
   "source": [
    "# Exercise 04: Mimicking Ajax requests"
   ]
  },
  {
   "cell_type": "code",
   "execution_count": 1,
   "metadata": {},
   "outputs": [],
   "source": [
    "from requests_html import HTMLSession"
   ]
  },
  {
   "cell_type": "code",
   "execution_count": 2,
   "metadata": {},
   "outputs": [],
   "source": [
    "url = 'https://scrapingclub.com/exercise/detail_ajax/'\n",
    "session = HTMLSession()"
   ]
  },
  {
   "cell_type": "code",
   "execution_count": 3,
   "metadata": {},
   "outputs": [],
   "source": [
    "req = session.get(url)"
   ]
  },
  {
   "cell_type": "code",
   "execution_count": 4,
   "metadata": {},
   "outputs": [
    {
     "data": {
      "text/plain": [
       "'\\n\\n<!DOCTYPE html>\\n<html lang=\"en\">\\n  <head>\\n    <meta charset=\"utf-8\">\\n    <meta http-equiv=\"X-UA-Compatible\" content=\"IE=edge\">\\n    <meta name=\"viewport\" content=\"width=device-width, initial-scale=1\">\\n\\n    <link rel=\"icon\" href=\"/static/img/icon.611132651e39.png\" type=\"image/png\" />\\n\\n    \\n<meta name=\"description\" content=\"Inspect Ajax requests and mimic them\"><title>Mimicking Ajax requests | ScrapingClub</title>\\n\\n\\n    \\n    <!-- Bootstrap core CSS -->\\n    <link href=\"/static/bootstrap/css/bootstrap.min.a9766a313743.css\" rel=\"stylesheet\">\\n    <link rel=\"stylesheet\" href=\"https://cdnjs.cloudflare.com/ajax/libs/font-awesome/4.7.0/css/font-awesome.min.css\">\\n    <link href=\"/static/css/custom.e6122d0f915e.css\" rel=\"stylesheet\">\\n\\n      \\n      \\n\\n\\n  </head>\\n\\n  <body>\\n\\n    \\n\\n<nav class=\"navbar navbar-expand-lg fixed-top navbar-dark bg-primary\">\\n\\n    <div class=\"container \">\\n\\n    <a class=\"navbar-brand\" href=\"/\">\\n    <img class=\"nav-logo\" src=\"/static/img/brand-logo.ad7a4888d334.png\" alt=\"ScrapingClub\">\\n    </a>\\n\\n    <button class=\"navbar-toggler\" type=\"button\" data-toggle=\"collapse\" data-target=\"#navbarCollapse\" aria-controls=\"navbarCollapse\" aria-expanded=\"false\" aria-label=\"Toggle navigation\">\\n    <span class=\"navbar-toggler-icon\"></span>\\n    </button>\\n    <div class=\"collapse navbar-collapse\" id=\"navbarCollapse\">\\n    <ul class=\"navbar-nav mr-auto\">\\n        <li class=\"nav-item\">\\n            <a class=\"nav-link\" href=\"/\">Home\\n            <span class=\"sr-only\">(current)</span>\\n            </a>\\n        </li>\\n        <li class=\"nav-item\">\\n            <a class=\"nav-link\" href=\"/blog/\">Blog</a>\\n        </li>\\n        <li class=\"nav-item\">\\n            <a class=\"nav-link\" href=\"/about/\">About</a>\\n        </li>\\n        <li class=\"nav-item\">\\n            <a class=\"nav-link\" href=\"/contact/\">Contact</a>\\n        </li>\\n        <li class=\"nav-item active\">\\n            <a class=\"nav-link\" href=\"//eepurl.com/dmPGn9\"><i class=\"fa fa-send\"></i> Subscribe</a>\\n        </li>\\n    </ul>\\n    </div>\\n\\n    </div>\\n</nav>\\n\\n\\n\\n\\n\\n\\n    <!-- Page Content -->\\n    <div class=\"container mt-4\">\\n\\n      <div class=\"row\">\\n\\n        <div class=\"col-lg-8\">\\n\\n            \\n\\n\\n\\n<div class=\"alert alert-info my-4\" role=\"alert\">\\n    <p>Ajax is so popular nowadays so you should learn how to mimic it in your web crawler.</p>\\n<p>In this exercise, try to extract the product detail such as title, desc, and price.</p>\\n<p>You should learn how to inspect network requests in the browser and filter them, after you figure out the URL of the ajax request, implement it in your spider.</p>\\n</div>\\n\\n\\n\\n            \\n\\n<div class=\"card mt-4 my-4\">\\n    <img class=\"card-img-top img-fluid\" src=\"\" alt=\"\">\\n<div class=\"card-body\">\\n    <h3 class=\"card-title\"></h3>\\n    <h4 class=\"card-price\"></h4>\\n    <p class=\"card-description\"></p>\\n</div>\\n</div>\\n<!-- /.card -->\\n\\n\\n        </div>\\n        <!-- /.col-lg-8 -->\\n\\n        <div class=\"col-lg-4\">\\n            <div class=\"card card-outline-secondary my-4\">\\n    <div class=\"card-header\">\\n       Exercise List \\n    </div>\\n    <div class=\"card-body\">\\n\\n    \\n\\n      <p>\\n      <a class=\"\" href=\"/exercise/detail_basic/\">Basic Info Scraping</a>\\n      </p>\\n      <p>Web scraping using XPath or CSS expression</p>\\n      <hr>\\n      <!-- <small class=\"text-muted\">Posted by Anonymous on 3/1/17</small> -->\\n      <!-- <a href=\"#\" class=\"btn btn-success\">Leave a Review</a> -->\\n\\n    \\n\\n      <p>\\n      <a class=\"\" href=\"/exercise/detail_json/\">Analyze JSON</a>\\n      </p>\\n      <p>Load JSON string and extract data</p>\\n      <hr>\\n      <!-- <small class=\"text-muted\">Posted by Anonymous on 3/1/17</small> -->\\n      <!-- <a href=\"#\" class=\"btn btn-success\">Leave a Review</a> -->\\n\\n    \\n\\n      <p>\\n      <a class=\"\" href=\"/exercise/list_basic/\">Recursively Scraping pages</a>\\n      </p>\\n      <p>Not only crawl products but also handle pagination</p>\\n      <hr>\\n      <!-- <small class=\"text-muted\">Posted by Anonymous on 3/1/17</small> -->\\n      <!-- <a href=\"#\" class=\"btn btn-success\">Leave a Review</a> -->\\n\\n    \\n\\n      <p>\\n      <a class=\"\" href=\"/exercise/detail_ajax/\">Mimicking Ajax requests</a>\\n      </p>\\n      <p>Inspect Ajax requests and mimic them</p>\\n      <hr>\\n      <!-- <small class=\"text-muted\">Posted by Anonymous on 3/1/17</small> -->\\n      <!-- <a href=\"#\" class=\"btn btn-success\">Leave a Review</a> -->\\n\\n    \\n\\n      <p>\\n      <a class=\"\" href=\"/exercise/detail_header/\">Inspect HTTP request</a>\\n      </p>\\n      <p>Learn to inspect the fields of HTTP request</p>\\n      <hr>\\n      <!-- <small class=\"text-muted\">Posted by Anonymous on 3/1/17</small> -->\\n      <!-- <a href=\"#\" class=\"btn btn-success\">Leave a Review</a> -->\\n\\n    \\n\\n      <p>\\n      <a class=\"\" href=\"/exercise/list_infinite_scroll/\">Scraping Infinite Scrolling Pages (Ajax)</a>\\n      </p>\\n      <p>Learn to scrape infinite scrolling pages</p>\\n      <hr>\\n      <!-- <small class=\"text-muted\">Posted by Anonymous on 3/1/17</small> -->\\n      <!-- <a href=\"#\" class=\"btn btn-success\">Leave a Review</a> -->\\n\\n    \\n\\n      <p>\\n      <a class=\"\" href=\"/exercise/detail_cookie/\">Find gold in cookie</a>\\n      </p>\\n      <p>Make your spider can work with the cookie</p>\\n      <hr>\\n      <!-- <small class=\"text-muted\">Posted by Anonymous on 3/1/17</small> -->\\n      <!-- <a href=\"#\" class=\"btn btn-success\">Leave a Review</a> -->\\n\\n    \\n\\n      <p>\\n      <a class=\"\" href=\"/exercise/basic_login/\">Login form</a>\\n      </p>\\n      <p>Scrape data behind login form</p>\\n      <hr>\\n      <!-- <small class=\"text-muted\">Posted by Anonymous on 3/1/17</small> -->\\n      <!-- <a href=\"#\" class=\"btn btn-success\">Leave a Review</a> -->\\n\\n    \\n\\n      <p>\\n      <a class=\"\" href=\"/exercise/basic_captcha/\">Solve Captcha</a>\\n      </p>\\n      <p>Learn to scrape data behind a captcha</p>\\n      <hr>\\n      <!-- <small class=\"text-muted\">Posted by Anonymous on 3/1/17</small> -->\\n      <!-- <a href=\"#\" class=\"btn btn-success\">Leave a Review</a> -->\\n\\n    \\n\\n      <p>\\n      <a class=\"\" href=\"/exercise/detail_sign/\">Decode minified javascript</a>\\n      </p>\\n      <p>Learn how to analyze minimized or compressed javascript</p>\\n      <hr>\\n      <!-- <small class=\"text-muted\">Posted by Anonymous on 3/1/17</small> -->\\n      <!-- <a href=\"#\" class=\"btn btn-success\">Leave a Review</a> -->\\n\\n    \\n\\n    </div>\\n</div>\\n\\n        </div>\\n        <!-- /.col-lg-4 -->\\n\\n      </div>\\n\\n    </div>\\n    <!-- /.container -->\\n\\n        <!-- Footer -->\\n    <footer class=\"py-4 bg-primary\">\\n      <div class=\"container\">\\n        <p class=\"m-0 text-center text-white\">Made with <span class=\\'sh-red\\'>❤</span> by <a href=\"https://blog.michaelyin.info/\">MichaelYin</a></p>\\n      </div>\\n      <!-- /.container -->\\n    </footer>\\n\\n    <!-- Global site tag (gtag.js) - Google Analytics -->\\n    <script async src=\"https://www.googletagmanager.com/gtag/js?id=UA-39890589-8\"></script>\\n    <script>\\n      window.dataLayer = window.dataLayer || [];\\n      function gtag(){dataLayer.push(arguments);}\\n      gtag(\\'js\\', new Date());\\n\\n      gtag(\\'config\\', \\'UA-39890589-8\\');\\n    </script>\\n\\n\\n    <!-- Bootstrap core JavaScript -->\\n    <script src=\"/static/jquery/jquery.min.a09e13ee94d5.js\"></script>\\n    <script src=\"/static/bootstrap/js/bootstrap.min.14d449eb8876.js\"></script>\\n    \\n<script>\\n\\n$(function() {\\n  $.ajax({\\n    type: \"GET\",\\n    url: \"/exercise/ajaxdetail/\",\\n    success: function(obj) {\\n      $(\".card-title\").html(obj.title);\\n      $(\".card-price\").html(obj.price);\\n      $(\".card-description\").html(obj.description);\\n      $(\"img.card-img-top\").attr(\\'src\\', obj.img_path);\\n    },\\n    error: function(err) {\\n      alert(\"something is wrong in webapp\");\\n    },\\n  });\\n});\\n\\n</script>\\n\\n\\n  </body>\\n\\n</html>\\n\\n\\n'"
      ]
     },
     "execution_count": 4,
     "metadata": {},
     "output_type": "execute_result"
    }
   ],
   "source": [
    "req.html.html"
   ]
  }
 ],
 "metadata": {
  "kernelspec": {
   "display_name": "Python 3",
   "language": "python",
   "name": "python3"
  },
  "language_info": {
   "codemirror_mode": {
    "name": "ipython",
    "version": 3
   },
   "file_extension": ".py",
   "mimetype": "text/x-python",
   "name": "python",
   "nbconvert_exporter": "python",
   "pygments_lexer": "ipython3",
   "version": "3.7.1"
  }
 },
 "nbformat": 4,
 "nbformat_minor": 4
}
