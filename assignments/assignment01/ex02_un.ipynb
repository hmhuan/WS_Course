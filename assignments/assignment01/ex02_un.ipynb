{
 "cells": [
  {
   "cell_type": "code",
   "execution_count": 31,
   "metadata": {},
   "outputs": [],
   "source": [
    "from requests_html import HTMLSession\n",
    "import time\n",
    "import json\n",
    "import requests\n",
    "import re"
   ]
  },
  {
   "cell_type": "code",
   "execution_count": 6,
   "metadata": {},
   "outputs": [],
   "source": [
    "session = HTMLSession()"
   ]
  },
  {
   "cell_type": "code",
   "execution_count": 28,
   "metadata": {},
   "outputs": [
    {
     "data": {
      "text/plain": [
       "'Analyze JSON | ScrapingClub\\nHome (current)\\nBlog\\nAbout\\nContact\\nSubscribe\\nJavascript is the most popular language today, and JSON format has become a very popular data structure to store data.\\nTry to extract this product detail such as title, desc and price.\\nTips:\\nIn some cases, the XPath expression or CSS expression which work in your browser can not work in your code because some DOM element might have been modified by frontend javascript.\\nSometimes there are some Unicode char in the raw JSON string which might cause program raise UnicodeDecodeError. You should remember before running json.loads, make the JSON string Unicode string type. If there is some syntax error when loading, you can use some took such as json lint to help you figure out where the error is.\\nExercise List\\nBasic Info Scraping\\nWeb scraping using XPath or CSS expression\\nAnalyze JSON\\nLoad JSON string and extract data\\nRecursively Scraping pages\\nNot only crawl products but also handle pagination\\nMimicking Ajax requests\\nInspect Ajax requests and mimic them\\nInspect HTTP request\\nLearn to inspect the fields of HTTP request\\nScraping Infinite Scrolling Pages (Ajax)\\nLearn to scrape infinite scrolling pages\\nFind gold in cookie\\nMake your spider can work with the cookie\\nLogin form\\nScrape data behind login form\\nSolve Captcha\\nLearn to scrape data behind a captcha\\nDecode minified javascript\\nLearn how to analyze minimized or compressed javascript\\nMade with ❤ by MichaelYin\\nwindow.dataLayer = window.dataLayer || []; function gtag(){dataLayer.push(arguments);} gtag(\\'js\\', new Date()); gtag(\\'config\\', \\'UA-39890589-8\\'); var obj = { \"title\": \"Short Sweatshirt\", \"price\": \"$24.99\", \"description\": \"Short sweatshirt with long sleeves and ribbing at neckline, cuffs, and hem. 57% cotton, 43% polyester. Machine wash cold.\", \"img_path\": \"/static/img/\" + \"96230-C\" + \".jpg\" }; $(function() { $(\".card-title\").html(obj.title); $(\".card-price\").html(obj.price); $(\".card-description\").html(obj.description); $(\"img.card-img-top\").attr(\\'src\\', obj.img_path); });'"
      ]
     },
     "execution_count": 28,
     "metadata": {},
     "output_type": "execute_result"
    }
   ],
   "source": [
    "req = session.get('https://scrapingclub.com/exercise/detail_json/')\n",
    "req.html.text"
   ]
  },
  {
   "cell_type": "code",
   "execution_count": 11,
   "metadata": {},
   "outputs": [],
   "source": [
    "scripts = req.html.find('script')"
   ]
  },
  {
   "cell_type": "code",
   "execution_count": 29,
   "metadata": {},
   "outputs": [
    {
     "data": {
      "text/plain": [
       "'var obj = { \"title\": \"Short Sweatshirt\", \"price\": \"$24.99\", \"description\": \"Short sweatshirt with long sleeves and ribbing at neckline, cuffs, and hem. 57% cotton, 43% polyester. Machine wash cold.\", \"img_path\": \"/static/img/\" + \"96230-C\" + \".jpg\" }; $(function() { $(\".card-title\").html(obj.title); $(\".card-price\").html(obj.price); $(\".card-description\").html(obj.description); $(\"img.card-img-top\").attr(\\'src\\', obj.img_path); });'"
      ]
     },
     "execution_count": 29,
     "metadata": {},
     "output_type": "execute_result"
    }
   ],
   "source": [
    "for script in scripts:\n",
    "    if 'obj' in script.text:\n",
    "        objStr = script.text\n",
    "        break\n",
    "objStr"
   ]
  },
  {
   "cell_type": "code",
   "execution_count": 63,
   "metadata": {},
   "outputs": [
    {
     "data": {
      "text/plain": [
       "[]"
      ]
     },
     "execution_count": 63,
     "metadata": {},
     "output_type": "execute_result"
    }
   ],
   "source": [
    "obj_text =  re.findall(r'var obj ={(.*)', objStr)\n",
    "obj_text"
   ]
  },
  {
   "cell_type": "code",
   "execution_count": null,
   "metadata": {},
   "outputs": [],
   "source": [
    "r = requests.get('https://scrapingclub.com/exercise/detail_json/')\n",
    "r.json()"
   ]
  }
 ],
 "metadata": {
  "kernelspec": {
   "display_name": "Python 3",
   "language": "python",
   "name": "python3"
  },
  "language_info": {
   "codemirror_mode": {
    "name": "ipython",
    "version": 3
   },
   "file_extension": ".py",
   "mimetype": "text/x-python",
   "name": "python",
   "nbconvert_exporter": "python",
   "pygments_lexer": "ipython3",
   "version": "3.7.1"
  }
 },
 "nbformat": 4,
 "nbformat_minor": 4
}
