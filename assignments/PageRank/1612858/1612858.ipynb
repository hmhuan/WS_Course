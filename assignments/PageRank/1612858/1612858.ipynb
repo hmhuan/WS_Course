{
 "cells": [
  {
   "cell_type": "code",
   "execution_count": 1,
   "metadata": {},
   "outputs": [],
   "source": [
    "import networkx as nx\n",
    "import numpy as np"
   ]
  },
  {
   "cell_type": "code",
   "execution_count": 2,
   "metadata": {},
   "outputs": [],
   "source": [
    "def graph(fileIn = None):\n",
    "    \"\"\"\n",
    "    input: \n",
    "        fileIn: fileName input for graph \n",
    "    output: G\n",
    "    \"\"\"\n",
    "    G = {}\n",
    "    try:\n",
    "        f = open(fileIn, 'r')\n",
    "        datas = f.readlines()\n",
    "        f.close()\n",
    "    except:\n",
    "        print('file not exists!!')\n",
    "        return None\n",
    "    max_node = 0\n",
    "    for line in datas:\n",
    "        if line[0] != '#':\n",
    "            pair = line.split()\n",
    "            f, t = int(pair[0]), int(pair[1])\n",
    "            G[f] = G.get(f, [])\n",
    "            G[t] = G.get(t, [])\n",
    "            G[f].append(t)\n",
    "    return G"
   ]
  },
  {
   "cell_type": "code",
   "execution_count": 3,
   "metadata": {},
   "outputs": [
    {
     "data": {
      "text/plain": [
       "325729"
      ]
     },
     "execution_count": 3,
     "metadata": {},
     "output_type": "execute_result"
    }
   ],
   "source": [
    "# đọc đồ thị dữ liệu từ file\n",
    "G = graph('web-NotreDame.txt')\n",
    "len(G.keys())"
   ]
  },
  {
   "cell_type": "code",
   "execution_count": 4,
   "metadata": {},
   "outputs": [],
   "source": [
    "def pageRank(G, beta = 0.85, iter = 100, teleport_list = None, eps = 1e-8):\n",
    "    if not teleport_list:\n",
    "        teleport_list = G.keys()\n",
    "    N = len(G.keys())\n",
    "    # Khởi tạo rank ban đầu\n",
    "    next_rank_list = np.array([1/N for i in range(N)])\n",
    "    curr_rank_list = np.array(next_rank_list)\n",
    "    const_rank_list = np.zeros(N)\n",
    "    for node in teleport_list:\n",
    "        const_rank_list[node] = (1.0 - beta) / N\n",
    "    \n",
    "    # Lặp để cập nhật rank cho các node\n",
    "    for i in range(iter):\n",
    "        curr_rank_list, next_rank_list = np.array(next_rank_list), np.array(const_rank_list)\n",
    "        \n",
    "        for node in G:\n",
    "            if G[node]:\n",
    "                contribution = beta * curr_rank_list[node] / len(G[node])\n",
    "                for edge in G[node]:\n",
    "                    next_rank_list[edge] += contribution\n",
    "        \n",
    "        leakage_contribution = (1.0 - np.sum(next_rank_list)) / N\n",
    "        next_rank_list += leakage_contribution\n",
    "        total_diff = np.sum(np.abs(curr_rank_list - next_rank_list))\n",
    "        if total_diff < eps * N: #đưa về cùng điều kiện so sánh tol với thuật toán pagerank của thư viện networkx\n",
    "            break\n",
    "\n",
    "    return next_rank_list"
   ]
  },
  {
   "cell_type": "code",
   "execution_count": 5,
   "metadata": {},
   "outputs": [
    {
     "name": "stdout",
     "output_type": "stream",
     "text": [
      "Wall time: 13 s\n",
      "1.0000000000000002\n",
      "0.005524903242845631\n"
     ]
    }
   ],
   "source": [
    "%time rank_list = pageRank(G, eps=1e-08)\n",
    "print(np.sum(rank_list))"
   ]
  },
  {
   "cell_type": "code",
   "execution_count": 6,
   "metadata": {},
   "outputs": [
    {
     "data": {
      "text/plain": [
       "array([5.52490324e-03, 4.85749916e-04, 2.78690533e-04, ...,\n",
       "       2.84880796e-06, 2.90259020e-06, 2.04667652e-06])"
      ]
     },
     "execution_count": 6,
     "metadata": {},
     "output_type": "execute_result"
    }
   ],
   "source": [
    "rank_list"
   ]
  },
  {
   "cell_type": "markdown",
   "metadata": {},
   "source": [
    "## Using NetworkX"
   ]
  },
  {
   "cell_type": "code",
   "execution_count": 7,
   "metadata": {},
   "outputs": [],
   "source": [
    "diG = nx.DiGraph()\n",
    "for key in G:\n",
    "    for el in G[key]:\n",
    "        diG.add_edge(key, el)"
   ]
  },
  {
   "cell_type": "code",
   "execution_count": 8,
   "metadata": {},
   "outputs": [
    {
     "data": {
      "text/plain": [
       "325729"
      ]
     },
     "execution_count": 8,
     "metadata": {},
     "output_type": "execute_result"
    }
   ],
   "source": [
    "diG.number_of_nodes()"
   ]
  },
  {
   "cell_type": "markdown",
   "metadata": {},
   "source": [
    "### PageRank algorithm"
   ]
  },
  {
   "cell_type": "code",
   "execution_count": 9,
   "metadata": {},
   "outputs": [
    {
     "name": "stdout",
     "output_type": "stream",
     "text": [
      "Wall time: 1min 22s\n"
     ]
    }
   ],
   "source": [
    "%time pagerank = nx.pagerank(diG, tol=1e-08)"
   ]
  },
  {
   "cell_type": "markdown",
   "metadata": {},
   "source": [
    "### convert pagerank to numpy array"
   ]
  },
  {
   "cell_type": "code",
   "execution_count": 10,
   "metadata": {},
   "outputs": [],
   "source": [
    "pageRank_list = []\n",
    "for page in pagerank:\n",
    "    pageRank_list.append(pagerank[page])"
   ]
  },
  {
   "cell_type": "code",
   "execution_count": 11,
   "metadata": {},
   "outputs": [],
   "source": [
    "pageRank_list = np.array(pageRank_list)"
   ]
  },
  {
   "cell_type": "code",
   "execution_count": 12,
   "metadata": {},
   "outputs": [
    {
     "data": {
      "text/plain": [
       "array([5.52490324e-03, 4.85749916e-04, 2.78690533e-04, ...,\n",
       "       2.84880796e-06, 2.90259020e-06, 2.04667652e-06])"
      ]
     },
     "execution_count": 12,
     "metadata": {},
     "output_type": "execute_result"
    }
   ],
   "source": [
    "pageRank_list"
   ]
  },
  {
   "cell_type": "markdown",
   "metadata": {},
   "source": [
    "## Sử dụng các độ đo so sánh 2 thuật toán"
   ]
  },
  {
   "cell_type": "markdown",
   "metadata": {},
   "source": [
    "### root mean squared error"
   ]
  },
  {
   "cell_type": "code",
   "execution_count": 14,
   "metadata": {},
   "outputs": [
    {
     "data": {
      "text/plain": [
       "4.1214435370337915e-18"
      ]
     },
     "execution_count": 14,
     "metadata": {},
     "output_type": "execute_result"
    }
   ],
   "source": [
    "np.sqrt(np.mean(np.power((np.array(pageRank_list) - rank_list), 2)))"
   ]
  },
  {
   "cell_type": "markdown",
   "metadata": {},
   "source": [
    "### absolute mean error"
   ]
  },
  {
   "cell_type": "code",
   "execution_count": 15,
   "metadata": {},
   "outputs": [
    {
     "data": {
      "text/plain": [
       "4.0434020954854955e-19"
      ]
     },
     "execution_count": 15,
     "metadata": {},
     "output_type": "execute_result"
    }
   ],
   "source": [
    "np.mean(np.abs(np.array(pageRank_list) - rank_list))"
   ]
  },
  {
   "cell_type": "code",
   "execution_count": null,
   "metadata": {},
   "outputs": [],
   "source": [
    "pageRank_list - rank_list"
   ]
  },
  {
   "cell_type": "markdown",
   "metadata": {},
   "source": [
    "### Hits algorithm"
   ]
  },
  {
   "cell_type": "code",
   "execution_count": 16,
   "metadata": {},
   "outputs": [
    {
     "name": "stdout",
     "output_type": "stream",
     "text": [
      "Wall time: 10min 26s\n"
     ]
    }
   ],
   "source": [
    "# %time hits = nx.hits(diG, tol=1e-04)"
   ]
  },
  {
   "cell_type": "code",
   "execution_count": 25,
   "metadata": {},
   "outputs": [],
   "source": [
    "#hits_list = []\n",
    "#for page in hits[1]:\n",
    "#    hits_list.append(hits[1][page])"
   ]
  },
  {
   "cell_type": "markdown",
   "metadata": {},
   "source": [
    "### root mean squared error với pageRank_list"
   ]
  },
  {
   "cell_type": "code",
   "execution_count": 29,
   "metadata": {},
   "outputs": [
    {
     "data": {
      "text/plain": [
       "4.7968250026397676e-05"
      ]
     },
     "execution_count": 29,
     "metadata": {},
     "output_type": "execute_result"
    }
   ],
   "source": [
    "#np.sqrt(np.mean(np.power((np.array(hits_list) - pageRank_list), 2)))"
   ]
  },
  {
   "cell_type": "markdown",
   "metadata": {},
   "source": [
    "### absolute mean error với pageRank_list"
   ]
  },
  {
   "cell_type": "code",
   "execution_count": 28,
   "metadata": {},
   "outputs": [
    {
     "data": {
      "text/plain": [
       "5.715781779943196e-06"
      ]
     },
     "execution_count": 28,
     "metadata": {},
     "output_type": "execute_result"
    }
   ],
   "source": [
    "#np.mean(np.abs(np.array(hits_list) - pageRank_list))"
   ]
  },
  {
   "cell_type": "markdown",
   "metadata": {},
   "source": [
    "### root mean squared error với rank_list"
   ]
  },
  {
   "cell_type": "code",
   "execution_count": 26,
   "metadata": {},
   "outputs": [
    {
     "data": {
      "text/plain": [
       "4.796825002639911e-05"
      ]
     },
     "execution_count": 26,
     "metadata": {},
     "output_type": "execute_result"
    }
   ],
   "source": [
    "#np.sqrt(np.mean(np.power((np.array(hits_list) - rank_list), 2)))"
   ]
  },
  {
   "cell_type": "markdown",
   "metadata": {},
   "source": [
    "### absolute mean error với rank_list"
   ]
  },
  {
   "cell_type": "code",
   "execution_count": 27,
   "metadata": {},
   "outputs": [
    {
     "data": {
      "text/plain": [
       "5.715781779943539e-06"
      ]
     },
     "execution_count": 27,
     "metadata": {},
     "output_type": "execute_result"
    }
   ],
   "source": [
    "#np.mean(np.abs(np.array(hits_list) - rank_list))"
   ]
  }
 ],
 "metadata": {
  "kernelspec": {
   "display_name": "Python 3",
   "language": "python",
   "name": "python3"
  },
  "language_info": {
   "codemirror_mode": {
    "name": "ipython",
    "version": 3
   },
   "file_extension": ".py",
   "mimetype": "text/x-python",
   "name": "python",
   "nbconvert_exporter": "python",
   "pygments_lexer": "ipython3",
   "version": "3.7.1"
  }
 },
 "nbformat": 4,
 "nbformat_minor": 4
}
