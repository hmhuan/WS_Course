{
 "cells": [
  {
   "cell_type": "code",
   "execution_count": 1,
   "metadata": {},
   "outputs": [],
   "source": [
    "import networkx as nx\n",
    "import numpy as np"
   ]
  },
  {
   "cell_type": "code",
   "execution_count": 6,
   "metadata": {},
   "outputs": [],
   "source": [
    "def graph(fileIn = None):\n",
    "    \"\"\"\n",
    "    input: \n",
    "        fileIn: fileName input for graph \n",
    "    output: G\n",
    "    \"\"\"\n",
    "    G = {}\n",
    "    try:\n",
    "        f = open(fileIn, 'r')\n",
    "        datas = f.readlines()\n",
    "        f.close()\n",
    "    except:\n",
    "        print('file not exists!!')\n",
    "        return None\n",
    "    max_node = 0\n",
    "    for line in datas:\n",
    "        if line[0] != '#':\n",
    "            pair = line.split()\n",
    "            f, t = int(pair[0]), int(pair[1])\n",
    "            G[f] = G.get(f, [])\n",
    "            G[t] = G.get(t, [])\n",
    "            G[f].append(t)\n",
    "    return G"
   ]
  },
  {
   "cell_type": "code",
   "execution_count": 7,
   "metadata": {},
   "outputs": [
    {
     "data": {
      "text/plain": [
       "325729"
      ]
     },
     "execution_count": 7,
     "metadata": {},
     "output_type": "execute_result"
    }
   ],
   "source": [
    "# đọc đồ thị dữ liệu từ file\n",
    "G = graph('web-NotreDame.txt')\n",
    "len(G.keys())"
   ]
  },
  {
   "cell_type": "code",
   "execution_count": 13,
   "metadata": {},
   "outputs": [],
   "source": [
    "def pageRank(G, beta = 0.85, iter = 100, teleport_list = None, eps = 1e-8):\n",
    "    if not teleport_list:\n",
    "        teleport_list = G.keys()\n",
    "    #N_teleport_list = len(teleport_list)\n",
    "    N = len(G.keys())\n",
    "    next_rank_list = np.array([1/N for i in range(N)])\n",
    "    curr_rank_list = np.array(next_rank_list)\n",
    "    const_rank_list = np.zeros(N)\n",
    "    for node in teleport_list:\n",
    "        const_rank_list[node] = (1.0 - beta) / N\n",
    "    \n",
    "    # loop for algorithm\n",
    "    for i in range(iter):\n",
    "        curr_rank_list, next_rank_list = np.array(next_rank_list), np.array(const_rank_list)\n",
    "        \n",
    "        for node in G:\n",
    "            if G[node]:\n",
    "                contribution = beta * curr_rank_list[node] / len(G[node])\n",
    "                for edge in G[node]:\n",
    "                    next_rank_list[edge] += contribution\n",
    "        \n",
    "        leakage_contribution = (1.0 - np.sum(next_rank_list)) / N\n",
    "        next_rank_list += leakage_contribution\n",
    "        total_diff = np.sum(np.abs(curr_rank_list - next_rank_list))\n",
    "        if total_diff < eps * N:\n",
    "            print(\"iters = \", i)\n",
    "            break\n",
    "\n",
    "    return next_rank_list"
   ]
  },
  {
   "cell_type": "code",
   "execution_count": 14,
   "metadata": {},
   "outputs": [
    {
     "name": "stdout",
     "output_type": "stream",
     "text": [
      "iters =  1\n",
      "Wall time: 2.81 s\n",
      "1.0000000000000002\n",
      "0.005092846884345504\n"
     ]
    }
   ],
   "source": [
    "#G = graph()\n",
    "%time rank_list = pageRank(G, eps=1e-06)\n",
    "print(np.sum(rank_list))\n",
    "print(rank_list[0])"
   ]
  },
  {
   "cell_type": "code",
   "execution_count": 33,
   "metadata": {},
   "outputs": [
    {
     "data": {
      "text/plain": [
       "array([5.09284688e-03, 3.89555402e-04, 2.13606770e-04, ...,\n",
       "       3.80891313e-06, 3.84082421e-06, 2.75926806e-06])"
      ]
     },
     "execution_count": 33,
     "metadata": {},
     "output_type": "execute_result"
    }
   ],
   "source": [
    "rank_list"
   ]
  },
  {
   "cell_type": "markdown",
   "metadata": {},
   "source": [
    "### using NetworkX"
   ]
  },
  {
   "cell_type": "code",
   "execution_count": 10,
   "metadata": {},
   "outputs": [],
   "source": [
    "diG = nx.DiGraph()\n",
    "for key in G:\n",
    "    for el in G[key]:\n",
    "        diG.add_edge(key, el)"
   ]
  },
  {
   "cell_type": "code",
   "execution_count": 11,
   "metadata": {},
   "outputs": [
    {
     "data": {
      "text/plain": [
       "325729"
      ]
     },
     "execution_count": 11,
     "metadata": {},
     "output_type": "execute_result"
    }
   ],
   "source": [
    "diG.number_of_nodes()"
   ]
  },
  {
   "cell_type": "code",
   "execution_count": 20,
   "metadata": {},
   "outputs": [
    {
     "name": "stdout",
     "output_type": "stream",
     "text": [
      "Wall time: 20.5 s\n"
     ]
    }
   ],
   "source": [
    "%time pagerank = nx.pagerank(diG)"
   ]
  },
  {
   "cell_type": "code",
   "execution_count": 21,
   "metadata": {},
   "outputs": [
    {
     "data": {
      "text/plain": [
       "0.0050928468843440345"
      ]
     },
     "execution_count": 21,
     "metadata": {},
     "output_type": "execute_result"
    }
   ],
   "source": [
    "pagerank[0]"
   ]
  },
  {
   "cell_type": "code",
   "execution_count": 24,
   "metadata": {},
   "outputs": [],
   "source": [
    "pageRank_list = []\n",
    "for page in pagerank:\n",
    "    pageRank_list.append(pagerank[page])"
   ]
  },
  {
   "cell_type": "code",
   "execution_count": 25,
   "metadata": {},
   "outputs": [],
   "source": [
    "pageRank_list = np.array(pageRank_list)"
   ]
  },
  {
   "cell_type": "code",
   "execution_count": 26,
   "metadata": {},
   "outputs": [
    {
     "data": {
      "text/plain": [
       "array([5.09284688e-03, 3.89555402e-04, 2.13606770e-04, ...,\n",
       "       3.80891313e-06, 3.84082421e-06, 2.75926806e-06])"
      ]
     },
     "execution_count": 26,
     "metadata": {},
     "output_type": "execute_result"
    }
   ],
   "source": [
    "pageRank_list"
   ]
  },
  {
   "cell_type": "markdown",
   "metadata": {},
   "source": [
    "### root mean squared error"
   ]
  },
  {
   "cell_type": "code",
   "execution_count": 27,
   "metadata": {},
   "outputs": [
    {
     "data": {
      "text/plain": [
       "8.182332187228208e-18"
      ]
     },
     "execution_count": 27,
     "metadata": {},
     "output_type": "execute_result"
    }
   ],
   "source": [
    "np.sqrt(np.mean(np.power((np.array(pageRank_list) - rank_list), 2)))"
   ]
  },
  {
   "cell_type": "markdown",
   "metadata": {},
   "source": [
    "### absolute mean error"
   ]
  },
  {
   "cell_type": "code",
   "execution_count": 28,
   "metadata": {},
   "outputs": [
    {
     "data": {
      "text/plain": [
       "9.444851794931788e-19"
      ]
     },
     "execution_count": 28,
     "metadata": {},
     "output_type": "execute_result"
    }
   ],
   "source": [
    "np.mean(np.abs(np.array(pageRank_list) - rank_list))"
   ]
  }
 ],
 "metadata": {
  "kernelspec": {
   "display_name": "Python 3",
   "language": "python",
   "name": "python3"
  },
  "language_info": {
   "codemirror_mode": {
    "name": "ipython",
    "version": 3
   },
   "file_extension": ".py",
   "mimetype": "text/x-python",
   "name": "python",
   "nbconvert_exporter": "python",
   "pygments_lexer": "ipython3",
   "version": "3.7.1"
  }
 },
 "nbformat": 4,
 "nbformat_minor": 4
}
