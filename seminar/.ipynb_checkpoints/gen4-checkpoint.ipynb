{
 "cells": [
  {
   "cell_type": "code",
   "execution_count": 1,
   "metadata": {},
   "outputs": [],
   "source": [
    "import pandas as pd"
   ]
  },
  {
   "cell_type": "code",
   "execution_count": 2,
   "metadata": {},
   "outputs": [],
   "source": [
    "data = pd.read_csv('negative.csv', encoding='utf-16', sep = '\\t')"
   ]
  },
  {
   "cell_type": "code",
   "execution_count": 3,
   "metadata": {},
   "outputs": [],
   "source": [
    "ctn_arr = data['neg']"
   ]
  },
  {
   "cell_type": "code",
   "execution_count": 4,
   "metadata": {},
   "outputs": [],
   "source": [
    "from translate import Translator\n",
    "VtoE_translator = Translator(from_lang='vi', to_lang='en')\n",
    "EtoV_translator = Translator(from_lang='en', to_lang='vi')"
   ]
  },
  {
   "cell_type": "code",
   "execution_count": 5,
   "metadata": {},
   "outputs": [],
   "source": [
    "import time"
   ]
  },
  {
   "cell_type": "code",
   "execution_count": 6,
   "metadata": {},
   "outputs": [],
   "source": [
    "negative_content = []\n",
    "def generate_neg_from_VtoE_EtoV(startId, endId):\n",
    "    s = time.time()\n",
    "    count = 0\n",
    "    for ctn in ctn_arr[startId:endId]:\n",
    "        text = VtoE_translator.translate(ctn)\n",
    "        negative_content.append(EtoV_translator.translate(text))\n",
    "        print('.', end = '')\n",
    "        count+=1\n",
    "        if (count == 100):\n",
    "            count = 0\n",
    "            print()\n",
    "    return (time.time() - s)"
   ]
  },
  {
   "cell_type": "code",
   "execution_count": null,
   "metadata": {},
   "outputs": [
    {
     "name": "stdout",
     "output_type": "stream",
     "text": [
      ".........................................................."
     ]
    }
   ],
   "source": [
    "generate_neg_from_VtoE_EtoV(1500, 2000)"
   ]
  }
 ],
 "metadata": {
  "kernelspec": {
   "display_name": "Python 3",
   "language": "python",
   "name": "python3"
  },
  "language_info": {
   "codemirror_mode": {
    "name": "ipython",
    "version": 3
   },
   "file_extension": ".py",
   "mimetype": "text/x-python",
   "name": "python",
   "nbconvert_exporter": "python",
   "pygments_lexer": "ipython3",
   "version": "3.7.1"
  }
 },
 "nbformat": 4,
 "nbformat_minor": 4
}
