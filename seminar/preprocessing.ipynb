{
 "cells": [
  {
   "cell_type": "code",
   "execution_count": 1,
   "metadata": {},
   "outputs": [],
   "source": [
    "import pandas as pd\n",
    "import numpy as np"
   ]
  },
  {
   "cell_type": "code",
   "execution_count": 9,
   "metadata": {},
   "outputs": [],
   "source": [
    "df = pd.read_csv(\"remove_cluster06_Huan.csv\", sep=\"\\t\", encoding='utf-16')"
   ]
  },
  {
   "cell_type": "code",
   "execution_count": 10,
   "metadata": {},
   "outputs": [
    {
     "data": {
      "text/html": [
       "<div>\n",
       "<style scoped>\n",
       "    .dataframe tbody tr th:only-of-type {\n",
       "        vertical-align: middle;\n",
       "    }\n",
       "\n",
       "    .dataframe tbody tr th {\n",
       "        vertical-align: top;\n",
       "    }\n",
       "\n",
       "    .dataframe thead th {\n",
       "        text-align: right;\n",
       "    }\n",
       "</style>\n",
       "<table border=\"1\" class=\"dataframe\">\n",
       "  <thead>\n",
       "    <tr style=\"text-align: right;\">\n",
       "      <th></th>\n",
       "      <th>content</th>\n",
       "      <th>ground</th>\n",
       "      <th>cluster</th>\n",
       "    </tr>\n",
       "  </thead>\n",
       "  <tbody>\n",
       "    <tr>\n",
       "      <td>0</td>\n",
       "      <td>thiết kế gọn đẹp, giá tầm trung thêm chức năng...</td>\n",
       "      <td>1</td>\n",
       "      <td>3</td>\n",
       "    </tr>\n",
       "    <tr>\n",
       "      <td>1</td>\n",
       "      <td>Thiết kế đẹp</td>\n",
       "      <td>1</td>\n",
       "      <td>3</td>\n",
       "    </tr>\n",
       "    <tr>\n",
       "      <td>2</td>\n",
       "      <td>Cần Thơ</td>\n",
       "      <td>2</td>\n",
       "      <td>2</td>\n",
       "    </tr>\n",
       "    <tr>\n",
       "      <td>3</td>\n",
       "      <td>mình mua 1 năm rồi sài thấy ok .chưa bị lỗi gì...</td>\n",
       "      <td>1</td>\n",
       "      <td>1</td>\n",
       "    </tr>\n",
       "    <tr>\n",
       "      <td>4</td>\n",
       "      <td>Mình mới mua, máy chạy chậm, hay bị đơ, bắt Wi...</td>\n",
       "      <td>0</td>\n",
       "      <td>1</td>\n",
       "    </tr>\n",
       "    <tr>\n",
       "      <td>...</td>\n",
       "      <td>...</td>\n",
       "      <td>...</td>\n",
       "      <td>...</td>\n",
       "    </tr>\n",
       "    <tr>\n",
       "      <td>11432</td>\n",
       "      <td>Xài tốt bền đẹp, lâu lâu cũng hơi mát nhẹ nhưn...</td>\n",
       "      <td>1</td>\n",
       "      <td>2</td>\n",
       "    </tr>\n",
       "    <tr>\n",
       "      <td>11433</td>\n",
       "      <td>nghe nhạc hơi rè 1 tí, xài qua nhiều dòng máy ...</td>\n",
       "      <td>1</td>\n",
       "      <td>5</td>\n",
       "    </tr>\n",
       "    <tr>\n",
       "      <td>11434</td>\n",
       "      <td>Nên bỏ trong túi quần mà k nghe chuông là tự t...</td>\n",
       "      <td>1</td>\n",
       "      <td>5</td>\n",
       "    </tr>\n",
       "    <tr>\n",
       "      <td>11435</td>\n",
       "      <td>Dù sao thì CHẤT 😆😆😆😆</td>\n",
       "      <td>1</td>\n",
       "      <td>5</td>\n",
       "    </tr>\n",
       "    <tr>\n",
       "      <td>11436</td>\n",
       "      <td>Em mới mua hôm qua(11/5) máy pin trâu, liên qu...</td>\n",
       "      <td>1</td>\n",
       "      <td>8</td>\n",
       "    </tr>\n",
       "  </tbody>\n",
       "</table>\n",
       "<p>11437 rows × 3 columns</p>\n",
       "</div>"
      ],
      "text/plain": [
       "                                                 content  ground  cluster\n",
       "0      thiết kế gọn đẹp, giá tầm trung thêm chức năng...       1        3\n",
       "1                                          Thiết kế đẹp        1        3\n",
       "2                                                Cần Thơ       2        2\n",
       "3      mình mua 1 năm rồi sài thấy ok .chưa bị lỗi gì...       1        1\n",
       "4      Mình mới mua, máy chạy chậm, hay bị đơ, bắt Wi...       0        1\n",
       "...                                                  ...     ...      ...\n",
       "11432  Xài tốt bền đẹp, lâu lâu cũng hơi mát nhẹ nhưn...       1        2\n",
       "11433  nghe nhạc hơi rè 1 tí, xài qua nhiều dòng máy ...       1        5\n",
       "11434  Nên bỏ trong túi quần mà k nghe chuông là tự t...       1        5\n",
       "11435                               Dù sao thì CHẤT 😆😆😆😆       1        5\n",
       "11436  Em mới mua hôm qua(11/5) máy pin trâu, liên qu...       1        8\n",
       "\n",
       "[11437 rows x 3 columns]"
      ]
     },
     "execution_count": 10,
     "metadata": {},
     "output_type": "execute_result"
    }
   ],
   "source": [
    "df"
   ]
  },
  {
   "cell_type": "code",
   "execution_count": 13,
   "metadata": {},
   "outputs": [],
   "source": [
    "df_cp = df.iloc[:1205,:]"
   ]
  },
  {
   "cell_type": "code",
   "execution_count": 14,
   "metadata": {},
   "outputs": [],
   "source": [
    "df_cp = df_cp[['content', 'ground']]\n",
    "#df_cp = df_cp[['content', 'ground']]"
   ]
  },
  {
   "cell_type": "code",
   "execution_count": 15,
   "metadata": {},
   "outputs": [
    {
     "data": {
      "text/html": [
       "<div>\n",
       "<style scoped>\n",
       "    .dataframe tbody tr th:only-of-type {\n",
       "        vertical-align: middle;\n",
       "    }\n",
       "\n",
       "    .dataframe tbody tr th {\n",
       "        vertical-align: top;\n",
       "    }\n",
       "\n",
       "    .dataframe thead th {\n",
       "        text-align: right;\n",
       "    }\n",
       "</style>\n",
       "<table border=\"1\" class=\"dataframe\">\n",
       "  <thead>\n",
       "    <tr style=\"text-align: right;\">\n",
       "      <th></th>\n",
       "      <th>content</th>\n",
       "    </tr>\n",
       "    <tr>\n",
       "      <th>ground</th>\n",
       "      <th></th>\n",
       "    </tr>\n",
       "  </thead>\n",
       "  <tbody>\n",
       "    <tr>\n",
       "      <td>0</td>\n",
       "      <td>348</td>\n",
       "    </tr>\n",
       "    <tr>\n",
       "      <td>1</td>\n",
       "      <td>734</td>\n",
       "    </tr>\n",
       "    <tr>\n",
       "      <td>2</td>\n",
       "      <td>123</td>\n",
       "    </tr>\n",
       "  </tbody>\n",
       "</table>\n",
       "</div>"
      ],
      "text/plain": [
       "        content\n",
       "ground         \n",
       "0           348\n",
       "1           734\n",
       "2           123"
      ]
     },
     "execution_count": 15,
     "metadata": {},
     "output_type": "execute_result"
    }
   ],
   "source": [
    "df_cp.groupby('ground').count()"
   ]
  },
  {
   "cell_type": "code",
   "execution_count": 7,
   "metadata": {},
   "outputs": [],
   "source": [
    "df_cp.iloc[0:11500,:].to_csv('remove_cluster06_Vinh.csv', sep = '\\t', encoding = 'utf-16', index = False)"
   ]
  },
  {
   "cell_type": "code",
   "execution_count": 8,
   "metadata": {},
   "outputs": [],
   "source": [
    "df_cp.iloc[11501:23000,:].to_csv('remove_cluster06_Hoai.csv', sep = '\\t', encoding = 'utf-16', index = False)"
   ]
  },
  {
   "cell_type": "code",
   "execution_count": 9,
   "metadata": {},
   "outputs": [],
   "source": [
    "df_cp.iloc[23001:,:].to_csv('remove_cluster06_Huan.csv', sep = '\\t', encoding = 'utf-16', index = False)"
   ]
  },
  {
   "cell_type": "code",
   "execution_count": 57,
   "metadata": {},
   "outputs": [],
   "source": [
    "df = pd.read_csv(\"parse_total.csv\", sep='\\t', encoding = 'utf-16')"
   ]
  },
  {
   "cell_type": "code",
   "execution_count": 69,
   "metadata": {},
   "outputs": [],
   "source": [
    "contents = set()"
   ]
  },
  {
   "cell_type": "code",
   "execution_count": 70,
   "metadata": {},
   "outputs": [],
   "source": [
    "def split(x):\n",
    "    contents.update(x.split('. '))\n",
    "content_raw = df['content'].agg(split)"
   ]
  },
  {
   "cell_type": "code",
   "execution_count": 71,
   "metadata": {},
   "outputs": [
    {
     "data": {
      "text/plain": [
       "35262"
      ]
     },
     "execution_count": 71,
     "metadata": {},
     "output_type": "execute_result"
    }
   ],
   "source": [
    "len(contents)"
   ]
  },
  {
   "cell_type": "code",
   "execution_count": 82,
   "metadata": {},
   "outputs": [
    {
     "data": {
      "text/plain": [
       "array([0, 0, 0, ..., 0, 0, 0])"
      ]
     },
     "execution_count": 82,
     "metadata": {},
     "output_type": "execute_result"
    }
   ],
   "source": [
    "ground = np.zeros(len(contents), dtype = int)\n",
    "ground"
   ]
  },
  {
   "cell_type": "code",
   "execution_count": 83,
   "metadata": {},
   "outputs": [],
   "source": [
    "content_todf = pd.DataFrame({'content': list(contents),\n",
    "                            'ground': ground})"
   ]
  },
  {
   "cell_type": "code",
   "execution_count": 84,
   "metadata": {},
   "outputs": [
    {
     "data": {
      "text/html": [
       "<div>\n",
       "<style scoped>\n",
       "    .dataframe tbody tr th:only-of-type {\n",
       "        vertical-align: middle;\n",
       "    }\n",
       "\n",
       "    .dataframe tbody tr th {\n",
       "        vertical-align: top;\n",
       "    }\n",
       "\n",
       "    .dataframe thead th {\n",
       "        text-align: right;\n",
       "    }\n",
       "</style>\n",
       "<table border=\"1\" class=\"dataframe\">\n",
       "  <thead>\n",
       "    <tr style=\"text-align: right;\">\n",
       "      <th></th>\n",
       "      <th>content</th>\n",
       "      <th>ground</th>\n",
       "    </tr>\n",
       "  </thead>\n",
       "  <tbody>\n",
       "    <tr>\n",
       "      <td>0</td>\n",
       "      <td></td>\n",
       "      <td>0</td>\n",
       "    </tr>\n",
       "    <tr>\n",
       "      <td>1</td>\n",
       "      <td>Siêu phẩm, không làm mình thất vọng</td>\n",
       "      <td>0</td>\n",
       "    </tr>\n",
       "    <tr>\n",
       "      <td>2</td>\n",
       "      <td>Không thấy có thông báo gì</td>\n",
       "      <td>0</td>\n",
       "    </tr>\n",
       "    <tr>\n",
       "      <td>3</td>\n",
       "      <td>sẽ ủng hộ ĐMX nhiều</td>\n",
       "      <td>0</td>\n",
       "    </tr>\n",
       "    <tr>\n",
       "      <td>4</td>\n",
       "      <td>Máy dùng rất ổn</td>\n",
       "      <td>0</td>\n",
       "    </tr>\n",
       "    <tr>\n",
       "      <td>...</td>\n",
       "      <td>...</td>\n",
       "      <td>...</td>\n",
       "    </tr>\n",
       "    <tr>\n",
       "      <td>35257</td>\n",
       "      <td>Xài tốt bền đẹp, lâu lâu cũng hơi mát nhẹ nhưn...</td>\n",
       "      <td>0</td>\n",
       "    </tr>\n",
       "    <tr>\n",
       "      <td>35258</td>\n",
       "      <td>nghe nhạc hơi rè 1 tí, xài qua nhiều dòng máy ...</td>\n",
       "      <td>0</td>\n",
       "    </tr>\n",
       "    <tr>\n",
       "      <td>35259</td>\n",
       "      <td>Nên bỏ trong túi quần mà k nghe chuông là tự t...</td>\n",
       "      <td>0</td>\n",
       "    </tr>\n",
       "    <tr>\n",
       "      <td>35260</td>\n",
       "      <td>Dù sao thì CHẤT 😆😆😆😆</td>\n",
       "      <td>0</td>\n",
       "    </tr>\n",
       "    <tr>\n",
       "      <td>35261</td>\n",
       "      <td>Em mới mua hôm qua(11/5) máy pin trâu, liên qu...</td>\n",
       "      <td>0</td>\n",
       "    </tr>\n",
       "  </tbody>\n",
       "</table>\n",
       "<p>35262 rows × 2 columns</p>\n",
       "</div>"
      ],
      "text/plain": [
       "                                                 content  ground\n",
       "0                                                              0\n",
       "1                    Siêu phẩm, không làm mình thất vọng       0\n",
       "2                             Không thấy có thông báo gì       0\n",
       "3                                    sẽ ủng hộ ĐMX nhiều       0\n",
       "4                                       Máy dùng rất ổn       0\n",
       "...                                                  ...     ...\n",
       "35257  Xài tốt bền đẹp, lâu lâu cũng hơi mát nhẹ nhưn...       0\n",
       "35258  nghe nhạc hơi rè 1 tí, xài qua nhiều dòng máy ...       0\n",
       "35259  Nên bỏ trong túi quần mà k nghe chuông là tự t...       0\n",
       "35260                               Dù sao thì CHẤT 😆😆😆😆       0\n",
       "35261  Em mới mua hôm qua(11/5) máy pin trâu, liên qu...       0\n",
       "\n",
       "[35262 rows x 2 columns]"
      ]
     },
     "execution_count": 84,
     "metadata": {},
     "output_type": "execute_result"
    }
   ],
   "source": [
    "content_todf"
   ]
  },
  {
   "cell_type": "code",
   "execution_count": 86,
   "metadata": {},
   "outputs": [],
   "source": [
    "content_todf.to_csv(\"contents.csv\", sep = \"\\t\", encoding = 'utf-16')"
   ]
  }
 ],
 "metadata": {
  "kernelspec": {
   "display_name": "Python 3",
   "language": "python",
   "name": "python3"
  },
  "language_info": {
   "codemirror_mode": {
    "name": "ipython",
    "version": 3
   },
   "file_extension": ".py",
   "mimetype": "text/x-python",
   "name": "python",
   "nbconvert_exporter": "python",
   "pygments_lexer": "ipython3",
   "version": "3.7.1"
  }
 },
 "nbformat": 4,
 "nbformat_minor": 4
}
