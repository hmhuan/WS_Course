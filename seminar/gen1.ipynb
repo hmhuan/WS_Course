{
 "cells": [
  {
   "cell_type": "code",
   "execution_count": 2,
   "metadata": {},
   "outputs": [],
   "source": [
    "import pandas as pd\n",
    "import numpy as np\n",
    "import requests"
   ]
  },
  {
   "cell_type": "code",
   "execution_count": 4,
   "metadata": {},
   "outputs": [],
   "source": [
    "data = pd.read_csv('data.csv', encoding='utf-16', sep = '\\t')"
   ]
  },
  {
   "cell_type": "code",
   "execution_count": 11,
   "metadata": {},
   "outputs": [],
   "source": [
    "neg = data[data['ground'] == 0]\n",
    "pos = data[data['ground'] == 1]"
   ]
  },
  {
   "cell_type": "code",
   "execution_count": 13,
   "metadata": {},
   "outputs": [
    {
     "data": {
      "text/plain": [
       "content    2984\n",
       "ground     2984\n",
       "dtype: int64"
      ]
     },
     "execution_count": 13,
     "metadata": {},
     "output_type": "execute_result"
    }
   ],
   "source": [
    "neg.count()"
   ]
  },
  {
   "cell_type": "code",
   "execution_count": 14,
   "metadata": {},
   "outputs": [
    {
     "data": {
      "text/plain": [
       "content    10888\n",
       "ground     10888\n",
       "dtype: int64"
      ]
     },
     "execution_count": 14,
     "metadata": {},
     "output_type": "execute_result"
    }
   ],
   "source": [
    "pos.count()"
   ]
  },
  {
   "cell_type": "markdown",
   "metadata": {},
   "source": [
    "### transltae API"
   ]
  },
  {
   "cell_type": "code",
   "execution_count": null,
   "metadata": {},
   "outputs": [],
   "source": []
  },
  {
   "cell_type": "code",
   "execution_count": 77,
   "metadata": {},
   "outputs": [],
   "source": [
    "from translate import Translator\n",
    "from googletrans import Translator as Trans"
   ]
  },
  {
   "cell_type": "code",
   "execution_count": 41,
   "metadata": {},
   "outputs": [],
   "source": [
    "content = neg['content']"
   ]
  },
  {
   "cell_type": "code",
   "execution_count": 45,
   "metadata": {},
   "outputs": [
    {
     "name": "stderr",
     "output_type": "stream",
     "text": [
      "D:\\Anaconda3\\lib\\site-packages\\ipykernel_launcher.py:1: FutureWarning: The 'get_values' method is deprecated and will be removed in a future version. Use '.to_numpy()' or '.array' instead.\n",
      "  \"\"\"Entry point for launching an IPython kernel.\n"
     ]
    }
   ],
   "source": [
    "ctn_arr = content.get_values()"
   ]
  },
  {
   "cell_type": "code",
   "execution_count": 78,
   "metadata": {},
   "outputs": [],
   "source": [
    "VtoE_translator = Trans() #Translator(from_lang='vi', to_lang='en')\n",
    "EtoV_translator = Trans() #Translator(from_lang='en', to_lang='vi')"
   ]
  },
  {
   "cell_type": "code",
   "execution_count": 107,
   "metadata": {},
   "outputs": [],
   "source": [
    "import time, re"
   ]
  },
  {
   "cell_type": "code",
   "execution_count": 101,
   "metadata": {},
   "outputs": [],
   "source": [
    "negative_content = []"
   ]
  },
  {
   "cell_type": "code",
   "execution_count": 108,
   "metadata": {},
   "outputs": [],
   "source": [
    "def generate_neg_from_VtoE_EtoV(startId, endId):\n",
    "    s = time.time()\n",
    "    count = 0\n",
    "    for ctn in ctn_arr[startId:endId]:\n",
    "        text = VtoE_translator.translate(re.sub(r'[^\\w^.^,]', ' ',ctn), src = 'vi', dest = 'en')\n",
    "        negative_content.append(EtoV_translator.translate(text.text, src='en', dest='vi').text)\n",
    "        print('.', end = '')\n",
    "        count+=1\n",
    "        if (count == 100):\n",
    "            count = 0\n",
    "            print()\n",
    "    return (time.time() - s)"
   ]
  },
  {
   "cell_type": "code",
   "execution_count": 109,
   "metadata": {},
   "outputs": [
    {
     "name": "stdout",
     "output_type": "stream",
     "text": [
      "....................................................................................................\n",
      "....................................................................................................\n",
      "....................................................................................................\n",
      "....................................................................................................\n",
      "....................................................................................................\n"
     ]
    },
    {
     "data": {
      "text/plain": [
       "546.5437397956848"
      ]
     },
     "execution_count": 109,
     "metadata": {},
     "output_type": "execute_result"
    }
   ],
   "source": [
    "generate_neg_from_VtoE_EtoV(0, 500)"
   ]
  },
  {
   "cell_type": "code",
   "execution_count": 114,
   "metadata": {},
   "outputs": [],
   "source": [
    "negative_content = negative_content[161:]"
   ]
  },
  {
   "cell_type": "code",
   "execution_count": 113,
   "metadata": {},
   "outputs": [],
   "source": [
    "df = pd.DataFrame({'neg': negative_content[161:]})\n",
    "df.to_csv('negative_0_500.csv', encoding='utf-16', sep = '\\t', index = False)"
   ]
  },
  {
   "cell_type": "markdown",
   "metadata": {},
   "source": [
    "### merge"
   ]
  },
  {
   "cell_type": "code",
   "execution_count": 120,
   "metadata": {},
   "outputs": [],
   "source": [
    "df = pd.read_csv('negative_500_1000.csv', encoding='utf-16', sep='\\t')\n",
    "negative_content.extend(df['neg'])"
   ]
  },
  {
   "cell_type": "code",
   "execution_count": 122,
   "metadata": {},
   "outputs": [],
   "source": [
    "df = pd.read_csv('negative_1000_1500.csv', encoding='utf-16', sep='\\t')\n",
    "negative_content.extend(df['neg'])"
   ]
  },
  {
   "cell_type": "code",
   "execution_count": 124,
   "metadata": {},
   "outputs": [],
   "source": [
    "df = pd.read_csv('negative_1500_2000.csv', encoding='utf-16', sep='\\t')\n",
    "negative_content.extend(df['neg'])"
   ]
  },
  {
   "cell_type": "code",
   "execution_count": 126,
   "metadata": {},
   "outputs": [],
   "source": [
    "df = pd.read_csv('negative_2000_2500.csv', encoding='utf-16', sep='\\t')\n",
    "negative_content.extend(df['neg'])"
   ]
  },
  {
   "cell_type": "code",
   "execution_count": 128,
   "metadata": {},
   "outputs": [],
   "source": [
    "df = pd.read_csv('negative_2500_end.csv', encoding='utf-16', sep='\\t')\n",
    "negative_content.extend(df['neg'])"
   ]
  },
  {
   "cell_type": "code",
   "execution_count": 129,
   "metadata": {},
   "outputs": [
    {
     "data": {
      "text/plain": [
       "2984"
      ]
     },
     "execution_count": 129,
     "metadata": {},
     "output_type": "execute_result"
    }
   ],
   "source": [
    "len(negative_content)"
   ]
  },
  {
   "cell_type": "code",
   "execution_count": 130,
   "metadata": {},
   "outputs": [],
   "source": [
    "df = pd.DataFrame({'negative': negative_content})\n",
    "df.to_csv('negative_gen.csv', encoding = 'utf-16', sep='\\t', index = False)"
   ]
  },
  {
   "cell_type": "code",
   "execution_count": 138,
   "metadata": {},
   "outputs": [
    {
     "data": {
      "text/plain": [
       "0       chi tiêu của họ là 4 tháng và cảm giác không p...\n",
       "1       Không có gì máy mới mà sử dụng để mua ze chậm....\n",
       "2       Mua dc 3 tháng 6 tháng chia nhỏ tickle sạc ổ c...\n",
       "3       đã mua. nhưng chỉ giảm ưu đãi 200.khong xem xé...\n",
       "4       Tôi thấy tất cả mọi thứ vẫn ổn, ngoại trừ pin ...\n",
       "                              ...                        \n",
       "2979    Thời gian sử dụng dc hiện trên ứng dụng hoặc m...\n",
       "2980    Lấy pro chậm trễ máy i7 hoặc tụt hậu bất chấp ...\n",
       "2981    Tôi mua nhiều máy DC 2 tháng. Gần đây lướt máy...\n",
       "2982    Máy móc cho các nhiệm vụ bình thường mượt mà p...\n",
       "2983    mua sản phẩm mới 28 ngày bị lỗi pin 99 pin 1 t...\n",
       "Name: negative, Length: 2984, dtype: object"
      ]
     },
     "execution_count": 138,
     "metadata": {},
     "output_type": "execute_result"
    }
   ],
   "source": [
    "df['negative']"
   ]
  },
  {
   "cell_type": "code",
   "execution_count": 137,
   "metadata": {},
   "outputs": [
    {
     "name": "stdout",
     "output_type": "stream",
     "text": [
      "Máy dùng tác vụ bình thường mượt mà pin trâu , nhưng bỏ ra bằng đấy tiền còn rất nhiều sự lựa chọn máy mượt mà ngon hơn nhiều , thôi đông viên cho 2 sao\n",
      "Máy móc cho các nhiệm vụ bình thường mượt mà pin trâu, mà còn dành rất nhiều tiền với máy mượt mà sự lựa chọn tốt hơn nhiều, đi đông cho Công viên 2 sao\n"
     ]
    }
   ],
   "source": [
    "print(ctn_arr[2982])\n",
    "print(df['negative'][2982])"
   ]
  },
  {
   "cell_type": "code",
   "execution_count": 141,
   "metadata": {},
   "outputs": [
    {
     "name": "stdout",
     "output_type": "stream",
     "text": [
      "Mình xài được 4 tháng và cảm nhận là camera ko đẹp lắm, pin thì ok, cảm ứng không nhảy nhiều khi bị loạn cảm ứng nữa. Nói chung là thất vọng, chắc lên đợi s10 cho nó mượt. Sau này ko xài điện thoại tầm trung nữa sợ qua.\n",
      "chi tiêu của họ là 4 tháng và cảm giác không phải là máy ảnh rất đẹp, pin là ok, cảm ứng không nhảy nhiều nữa khi gây ra chứng loạn thần kinh. Nói chung thất vọng, chắc chắn phải đợi s10 làm cho nó mượt mà hơn. Sau khi điện thoại tầm trung này không dành bất kỳ sợ hãi hơn về quá khứ.\n",
      "\n",
      "Không hiểu sao đang chơi game tự dưng thông báo mất kết nối trong khi wifi vẫn full vạch, mọi người xung quanh không sao cả, chuyển qua 4g vẫn vậy.\n",
      "Bằng cách nào đó chơi trò chơi đột ngột mất kết nối wifi thông báo trong khi vẫn đầy đủ quán bar, mọi người xung quanh không quan trọng, công tắc 4g cùng.\n",
      "\n",
      "Chẳng lẽ giờ vức bỏ gần 5tr mua con hãng khác chứ giờ dùng con samsung quá tệ nhất là phần mềm, lúc mới mua thì lỗi đủ thứ cập nhật phần mềm lại thì tệ. Niềm tin bị thất vọng\n",
      "Là giờ đi gần 5tr mua được bao phủ bởi các công ty khác chứ không phải là giờ sử dụng phần mềm tồi tệ nhất samsung, mua nó mới tại tất cả mọi thứ lỗi cập nhật phần mềm để đồng tiền. Niềm tin thất vọng\n",
      "\n",
      "Camera tốt, pin lại yếu mau hết, sạc pin chậm, nói chung mới thì tốt, thời gian sau lại mau hết pin sạc thì chậm.\n",
      "camera tốt, pin yếu sẽ sớm cạn kiệt, sạc chậm, nói chung, lợi ích mới, lần sau quay lại sớm chạy hết pin, sau đó chậm.\n",
      "\n",
      "Pin quảng cáo pin trâu mà nhanh hết Cảm biến vân tay quá tệ, dở hơn các đời máy cũ nhiều. Không xứng đáng với giá tầm trung là hơn 9tr\n",
      "quảng cáo trâu pin pin mà nhanh như cảm biến vân tay quá xấu, tồi tệ hơn nhiều thiết bị cũ. Không xứng đáng với giá là hơn tầm trung 9tr\n",
      "\n",
      "Máy hoạt động hơi chậm, camera trung bình cộng, thiết kế ko chê ,chơi game thì loat hơi lâu\n",
      "Máy làm hơi chậm, máy ảnh trung bình, được thiết kế không đổ lỗi, chơi game, hàng loạt các lâu\n",
      "\n",
      "Ko pek có phải do xui ko. Lúc đầu mua con này bị lỗi. Pin tuột nhanh. Máy nóng dù ko thao tác. Sạc nhanh 18v mà hơn 30p chỉ vào dc 10%pin. Mang đổi trả lấy con mới thì đỡ hơn nhưng vẫn lỗi. Pin vẫn tuột. Lúc bt ko sao. Lúc nóng lên thì lag luôn. Ko lẽ đổi trả nữa thì ngại. Chắc ra mất 20% bù tiền đổi con khác\n",
      "Pek ko ko là do xui xẻo. Ban đầu mua con này không thành công. Pin trượt nhanh. Nóng mặc dù không phải thao tác. Nhanh sạc 18v hơn 30p nhưng chỉ trên 10-pin dc. Mang bé mới được hoàn get tốt hơn nhưng vẫn lỗi. Pin vẫn đang trượt. Tại BT ổn. Ấm thời gian lag luôn. Có lẽ sự thay đổi là không sợ phải trả thêm tiền. Hãy chắc chắn rằng việc trao đổi tiền mất 20 đứa trẻ khác\n",
      "\n",
      "Về mặt thiết kế thì tạm được,riêng về camera chưa được sắc nét đặc biệt là khẩu độ quá kém\n",
      "Về mặt thiết kế, tạm thời, tách biệt camera vẫn chưa được khẩu độ đặc biệt sắc nét quá nghèo\n",
      "\n",
      "Máy rất tệ. Lần đầu mình mua Redmi Note 7 ở tgdd thấy rất ổn. Lần này mua cái máy này thật quá thất vọng luôn. Máy lỗi phần mềm trầm trọng dễ bị treo và không có bản cập nhật. Lệch cảm ứng. Camera chụp ổn nhưng AI làm quá nhiều. Chơi game rất nóng như muốn nổ máy luôn ấy. Thoạt đầu cũng lạnh lắm nhưng sau nóng lắm luôn. Tóm lại như hàng mã ấy. Đúng là hãng Đài Loan sản xuất hàng fake quen rồi giờ làm hàng real chán\n",
      "máy rất xấu. Redmi đơn hàng đầu tiên của mình trong tgdd thấy Note 7 rất ổn định. thời gian này để mua máy này đã quá thất vọng, quá. Máy dễ bị lỗi nghiêm trọng tai nạn phần mềm và không cập nhật. Biến thể liên lạc. Camera sẽ chụp tốt, nhưng AI để làm quá nhiều. Chơi game rất nóng khi cô luôn luôn muốn khởi động động cơ. Cũng lạnh lúc đầu nhưng luôn luôn rất nóng. Như vàng mã Nutshell nó. Đúng là công ty Đài Loan sản xuất hàng giả đã quen với nó giờ thật nhàm chán\n",
      "\n",
      "Sản phẩm không tốt so với tầm giá có khi thua thiệt realme 3 redmi 7, ưng thì loạn màn hình rồi đang chơi game thì tắt đen thui dù còn tiếng\n",
      "Là không tốt xem xét phạm vi giá khi lỗ realme 3 redmi 7, Falcon, sau đó màn hình hỗn loạn và chơi game thì đen mặc dù tắt âm thanh\n",
      "\n",
      "Máy quảng cáo thì 4500mAh nhưng sài về pin còn thua xa A8 star, mặc dù mua về chỉ để chơi game không dùng cho mục đích nghe gọi hay lướt wep tác vụ hàng ngày mà pin vẫn tụt nhanh, cảm ứng vân tay không nhạy có thể đây là do bản đầu tiên dùng cảm ứng vân tay trên màn hình nên chưa được tốt lắm, chứ A8 star mở vèo vèo chưa đến 1s. Nhận diện khuôn mặt lúc được lúc không hơi chán, toàn phải mở bằng mật khẩu\n",
      "máy quảng cáo là 4500mAh, nhưng kém về pin vẫn tụt sao xa A8, mặc dù mua chỉ để chơi game nhưng không phải với mục đích nghe các cuộc gọi hoặc lướt công việc hàng ngày wep mà pin vẫn rơi nhanh, cảm ứng vân tay không nhạy cảm với Có lẽ điều này là do người sử dụng cảm biến vân tay đầu tiên trên màn hình không phải là tuyệt vời, nhưng không quanh co quanh co sao A8 mở lên đến 1s. Trong khi nhận diện khuôn mặt không một chút nhàm chán thời điểm, tất cả để mở mật khẩu\n",
      "\n",
      "Máy mua cũng được mấy tháng rồi dùng cảm thấy tạm ổn . Camera xấu ,lâu lâu hay bị đứng máy phải tháo pin khởi động lại mới được ,pin cứ 15% dùng được 2 phút thì thấy còn 2 , 3 % nói chug máy này chỉ để gọi với coi phim nghe nhạc thôi . Chơi game không được.\n",
      "Máy mua cũng được sử dụng trong nhiều tháng và cảm thấy ổn. máy ảnh xấu, dài hạn hoặc đứng máy phải tháo pin ra, khởi động lại pin mới được sử dụng mỗi 15 phút đã thấy 2-2, 3 nói máy này chug coi chỉ để gọi chỉ với media player. Gaming không.\n",
      "\n",
      "Máy sài được một tháng rất hay bị đơ màng hình. Lâu lâu lại bị loạn cảm ứng. Màn hình sạc thì sáng không tắt. Rất chán. Thất vọng vô cùng.\n",
      "Dành một tháng một máy hoặc tông đơ màn hình. chứng loạn thần kinh cảm ứng dài hạn lần nữa. Sạc màn hình sáng không tắt. Rất nhàm chán. Vô cùng thất vọng.\n",
      "\n",
      "Mạng không ổn định, kém mạng quá, đôi lúc lag, sd thời gian sẽ biết thiết kế đẹp\n",
      "Mạng không ổn định, mạng kém quá, đôi khi tụt hậu, thời gian sd sẽ biết thiết kế đẹp\n",
      "\n",
      "Samsung j7 này dùng mượt đó các bạn, trừ khi chơi game nặng thì lag thui, nhưng tôi khuyên những ai mới mua xong đừng bao giờ cập nhập phần mềm nó lag giật đó, nên để nguyên máy lúc xuất xưởng ra để nguyên mọi thứ như vậy.\n",
      "Samsung J7 được sử dụng mịn mà bạn, trừ khi chơi game nặng, thui lag, nhưng tôi khuyên những ai mua xong không bao giờ được cập nhật phần mềm nó tụt sốc sau đó, nên để máy tại nhà máy để cải vật chất như vậy.\n",
      "\n",
      "Máy chơi game hay bị đơ bị lag chán vc máy mới mua đc 22 tiếng :)) nản quá đt ko tãi quá gì nhìu tãi mỗi một trò game mà lag quá pin cứ 999+ sao chơi muốn đập máy\n",
      "máy hoặc lag cứng chán vc máy mới mua DC Gaming cho 22 giờ tại qua nản quá đt không phải những gì túi của mỗi trò chơi mà tụt pin mỗi cầu thủ đều muốn đánh bại các máy sao 999\n",
      "\n",
      "Máy thời gian đầu chơi liên quân mượt, về sau khá lag. Bị loạn cảm ứng, sóng yếu hơn hẳn các điện thoại khác, xem phim còn khá, chứ chơi liên quân thì ping tăng đột ngột lên 400ms.\n",
      "Máy chơi thời gian liên minh mịn, sau đó thay vì tụt hậu. chứng loạn thần kinh gây ra, sóng yếu hơn so với các điện thoại khác, xem phim khá, nhưng liên minh đang chơi ping tăng vọt đến 400ms.\n",
      "\n",
      "Chụp hình đẹp máy ít tốn pin sài cả ngày chưa hết, còn cảm ứng k nhậy...........\n",
      "chụp máy đẹp kém cả ngày pin-less nào, cũng chạm k nhạy cảm ...........\n",
      "\n",
      "Có ai bị giống mình không nhỉ lúc mua về thì quay video full đc nhưng bây h chỉ đc như vậy không full hết đc\n",
      "Một là như anh không nó thời gian để mua vào quay video đầy đủ nhưng bây giờ h DC DC vì vậy không đầy đủ của tất cả các DC\n",
      "\n",
      "Mình trải nghiệm sp sau 2 tháng sử dụng , thấy vài lỗi rất khó chịu như sau , chơi pupg hay bị đơ lúc load game ( tụt FPS khi combat) chip 845 như vậy mình thấy chưa hài lòng , camera chụp thiếu sáng bị nhiễu chưa nói chụp đêm , đã nghiệm ứng dụng kém ( load lại nhiều), pin dùng ok , máy dùng ko quá nóng . Bản cập nhập mới nhất bị lỗi ứng dụng .\n",
      "Kinh nghiệm của ông sp sau 2 tháng sử dụng, nhìn thấy một vài lỗi là gây phiền nhiễu như sau, vở kịch pupg hoặc tông đơ khi bạn tải các trò chơi trượt FPS khi chiến đấu Chip 845 vì vậy tôi cảm thấy không hài lòng, máy ảnh ánh sáng thấp tiếng ồn một mình đêm bắn súng, có load lại kinh nghiệm ít nhiều ứng dụng, pin ok, máy không quá nóng. Các cập nhật mới nhất cũng ứng dụng bị lỗi.\n",
      "\n",
      "Máy dùnh cũng ổn xem youtube hay bị đơ bin tuột nhanh ít nóng nói chung cũng tạm\n",
      "Máy móc cũng tốt xem youtube hoặc pin tông đơ một cách nhanh chóng trượt ít nóng nói chung tạm thời\n",
      "\n",
      "Mới mua 2 ngày, đt cũng mượt mà dô LQ màn hình hơi giật, tải pupg thì hơi lag mới mua như vậy kh biết xài lâu nó sẽ ntn. Với lại pin 4000 mà nhanh hết dễ sợ. Chơi trận game thì đt nóng, sạc bỏ cũng nóng\n",
      "Mua 2 ngày, ph cũng mượt mà dô giật LQ màn hình, tải pupg lag mua nên kh biết lâu nó sẽ dành ntn. Với pin nhanh như 4000 mà đáng sợ. Chơi các trò chơi Hot dt, sạc remove nóng tốt\n",
      "\n",
      "Máy nhanh hết pin có chách nào khắc phục không, sử dụng rất ít, máy mliws mà pin hết rất nhanh, tệ hơn apple rất nhiều\n",
      "Máy chạy ra khỏi đường pin nhanh để khắc phục không, sử dụng rất ít, mliws máy mà pin rất nhanh, táo tồi tệ hơn rất nhiều\n",
      "\n",
      "Cảm nhận sau một tuần mua điện thoại là sử dụng các ứng dụng thấy chậm cho dù Ram 3gb mà không bằng cái điện thoại cũ của mình ram 2Gb thương hiệu khác. Còn độ bền và các phần khác thì mới một tuần chưa nói lên được điều gì.\n",
      "Cảm thấy sau một tuần để mua điện thoại là sử dụng các ứng dụng xem liệu 3GB chậm mà không sử dụng điện thoại cũ của mình 2Gb ram nhãn hiệu khác. Còn độ bền và các bộ phận khác, một tuần mới không nói bất cứ điều gì.\n",
      "\n",
      "Màn hình 4.5. hệ điều hành Android 7.1. chip 625. Trước 1 camera, sau 1 camera. Giá 6,9 triệu 3 cái thì dễ bán. Chứ với số tiền đấy, một cái điện thoại với cấu hình như thế ai mua? Thương hiệu thì xưa rồi.\n",
      "Màn hình 4.5. Hệ điều hành Android 7.1. 625. Trước 1 camera chip, sau 1 camera. $ 6.900.000 3-những người rất dễ bán. Nhưng với số tiền đó, một chiếc điện thoại với cấu hình như vậy, cái cũ sẽ mua thương hiệu rồi.\n",
      "\n",
      "Đã dùng được 8 tháng. Camera không được thật. Bắt đầu có hiện tượng đơ khi lướt web, mặc dù ko cài trò chơi hay phần mềm nặng.\n",
      "Từng là 8 tháng. Máy ảnh là không đúng sự thật. Hãy bắt đầu với hiện tượng lướt tông đơ, mặc dù không phải cài đặt trò chơi nặng hoặc phần mềm.\n",
      "\n",
      "cấu hình còn kém nhưng pin xài rất lâu dùng 2 ngày còn chưa hết cục pin, nhưng lướt face hay làm gì cũng cứng đơ cả.\n",
      "cấu hình kém nhưng chi tiêu sử dụng pin rất dài 2 ngày không phải tất cả pin, mà còn lướt các cứng khuôn mặt quyến rũ chút nào.\n",
      "\n",
      "Note10 . Bin rất tệ. Máy ko xài vẫn tuột phần trăm. Vừa sạt đầy 100% pin. Để đó ko xài từ ság tới tối về nhìn lại còn 40% vậy 60% pin kia ko làm dì mà sao mất nhỉ. Máy mua dk 1 tuần rồi. Pin rất tệ\n",
      "Note10. Bin rất xấu. Máy móc không dành vẫn trượt phần trăm. xói mòn vừa phải hơn 100 pin. Để không dành tối hôm đó từ SAG nhìn lại đến 40 để 60 pin khác không bị mất, dì đúng đó sao. Dk 1 máy mua tuần trước. pin rất xấu\n",
      "\n",
      "E vừa mua chiều.sạc pin thấy nóng các bác ạ.\n",
      "E đã mua chieu.sac nóng thấy pin bác sĩ ạ.\n",
      "\n",
      "Không hài lòng vì máy không tích hợp sẵn phần mềm ghi âm cuộc gọi. Nếu muốn có lại phải vào CH play tải về. Các phần khác thì ổn.\n",
      "Không hài lòng vì máy không được tích hợp phần mềm ghi âm cuộc gọi. Nếu bạn muốn trở thành trong vở kịch tải Séc. Các phần khác là ổn.\n",
      "\n",
      "Đã mua rồi. Máy dùng ok. Mà lỗi nhiều quá,... Kể muốn mỏi miệng. So với 730 thì con này kém hơn...do nó bị lỗi và màn hình ko tươi và trong hơn so với 730. Loa ngoài cũng không lớn. Cam thì ok. Còn cam trc thì tệ vô cùng..\n",
      "Đã mua rồi. Máy móc ok. lỗi quá ... Bao giờ muốn đôi môi. Con số này so với 730 người dưới ... bởi vì nó không thành công và không tươi và màn hình hơn 730. Loa ngoài cũng không lớn. Orange ok. TRC cũng cam kết vô cùng xấu ..\n",
      "\n",
      "sử dụng quá tệ - chơi game lag - vân tay kém - nhận diện khuôn mặt lỗi Thất vọng\n",
      "quá xấu để sử dụng vân tay chơi game tụt nghèo lỗi nhận dạng khuôn mặt Thất vọng\n",
      "\n",
      "Sản phẩm xài giắc cắm tai nghe 3.5mm nhưng là 3 ngấn, rắt thông dụng 4 ngấn( như iphone) không dùng được.\n",
      "chi tiêu sản phẩm 3.5mm jack cắm tai nghe nhưng là 3 ngắn, phong phú iphone 4 chung NGÂN như không sử dụng được.\n",
      "\n",
      "Máy của mình cảm ứng không mượt .đôi lúc bị đơ hôm nọ mình mang ra siêu thị .nhân viên bảo anh nên thoát hết ứng dụng khi vào bất kỳ. Mình cảm thấy dòng sản phẩm này không được\n",
      "Củ ma y u m một mi ng cạnh của MUO không t .Đối lu c mi mang không có nhân viên siêu thị nh bí ngô ngày nên thoa của ông ba o u t t hey du ng ng t ky khi nào và tại ba. Mi cạnh của m y thả bởi ana m na ng sa n y c đôi\n",
      "\n",
      "Dùng sang tháng thứ 5 , hiệu năng pin còn 94% có bác nào vậy ko , định đi bảo hành mà hoang mang quá\n",
      "Được sử dụng để tháng 5, hiệu suất pin lâu hơn nên 94 không có bác sĩ, bảo hành nhưng hoang mang quá\n",
      "\n",
      "Chơi game Liên quân hay Pubg lag kinh dị. Đang dùng Iphone 6 nghe lời thằng bạn đổi qua F11 pro. Bây giờ cảm thấy hối hận quá\n",
      "Gaming Coalition Pubg tụt hậu hay kinh dị. Lấy Iphone 6 chàng trai bạn nghe qua F11 thay đổi pro. Bây giờ cảm thấy hối hận quá\n",
      "\n",
      "Điện thoại mau xuống lắm. Pin 3900 mà nhanh hết dù chỉ là lướt face . Cấu hình yếu đôi lúc có giật lag. Chơi game củng vậy. Chỉ được màn hình lớn nhưng xưm phim lại không full. Nói chung máy rất kém. Các bạn cân nhắc khi mua không hối tiếc lắm.\n",
      "Điện thoại xuống rất nhanh. Pin 3900 mà một cách nhanh chóng như thể chỉ lướt khuôn mặt. Yếu đôi khi cấu hình giật tụt hậu. Gaming, quá. Chỉ có màn hình lớn không phải là đầy đủ nhưng um tùm phim. máy nói chung rất nghèo. Bạn cân nhắc khi mua không hối tiếc nhiều.\n",
      "\n",
      "tổng quan tương đối ổn máy nhìn đẹp pin tụt hơinhanh chắc ko dc 4000 nhu quảng cáo. máy bắt wifi quá tệ hay bị lỗi phần wifi\n",
      "tổng thể máy hoinhanh chắc thả cái nhìn tốt đẹp pin tương đối ổn định trong nhu cầu không dc 4000 quảng cáo. máy bắt quá xấu wifi hoặc wifi bị lỗi phần\n",
      "\n",
      "Sử dụng được 1 tháng 1 lần treo máy, giờ thì màn hình đen thui đúng là quá phí tiềm\n",
      "Sử dụng 1 tháng 1 lần tai nạn, bây giờ đen màn hình bên phải là quá tiềm năng phí\n",
      "\n",
      "S mỗi lần mở vô game này là nó bị mất hai bên v Còn ko có mở đc nhạc khi chơi game nữa 😥😥 Xài đc 3 ngày thì rất chạm máy 😢😢😭\n",
      "S mỗi khi bạn mở trò chơi này là sự giàu có của nó mất mở v DC Và không chơi trò chơi âm nhạc nữa Có thể hoạt động DC 3 ngày, máy rất cảm động hai bên\n",
      "\n",
      "cái này được cái mẫu mã đẹp nhưng dùng quá tệ bin thì nhanh tụt xạc thì lâu chụp thì kém vào mạng thì đơ nói trung là quá kem\n",
      "đây là thiết kế đẹp nhưng sử dụng bin quá xấu đang nhanh chóng sạc, độ trễ màn trập lâu, ít vận động, các phương tiện nổi là quá kem\n",
      "\n",
      "Pin nhanh hêt, máy hay đơ, chụp hình k đc nét, nói chung là với số tiền 11590 tôi đã sai lầm mua a9\n",
      "Nhanh chóng bị cạn kiệt pin, hoặc máy tông đơ, k ảnh DC nét, nói chung trong số tiền của những sai lầm tôi đã mua 11.590 a9\n",
      "\n",
      "Mua đc 1 tuần dùng hôm nay máy sạc bin k thể nào đẩy đc.1tiếng đồng hồ sạc đc 19%bị.vừa sạc vừa vào face hoặc zalo thì tụt bin k đẩy đc bin luôn.nghe có vẻ chán.\n",
      "DC 1 tuần mua hiện nay sạc bin k thể đẩy đồng hồ dc.1tieng sạc sạc DC 19 bi.vua chỉ trên khuôn mặt hoặc rơi Zalo DC bin bin k push luon.nghe có vẻ chán.\n",
      "\n",
      "máy này chỉ phù hợp cho việc lướt web với xem phim lướt facebook zolo thì khá ổn. còn ai muốn chơi game thì đừng mua máy này. khuyên thật lòng đấy\n",
      "Máy này chỉ thích hợp cho lướt sóng với lướt Facebook phim Zolo là khá ổn định. và những người muốn chơi trò chơi, không mua máy tính này. thành thật khuyên bạn nên nó\n",
      "\n",
      "jet black cực dễ trầy, sau 1 tháng sử dụng máy đã trầy vài đường trông rất rõ mất thẩm mỹ, 1 chiếc máy giá thành cao như vậy rất xót.\n",
      "máy bay phản lực đen rất dễ trầy xước, sau 1 tháng sử dụng đã bị trầy xước một vài dòng trông rất rõ ràng hấp dẫn, 1 máy chi phí cao nên rất lấy làm tiếc.\n",
      "\n",
      "Mua dk 3 tháng cammera sau bị lỗi . Thất vọng quá, có ae nào bị giống tui hk z ...........\n",
      "DK 3 tháng sau khi mua máy ảnh bị lỗi. Thất vọng quá, vẫn chưa được như tui hk ae z ...........\n",
      "\n",
      "Quá tệ. Mình mua cho bà dùng. Sử dụng được 2 tháng rưỡi thì tháng đầu hỏng loa,được đổi máy mới. Đến hơn tháng sau thì máy lại bị liệt phím. Đã hoàn tất thủ tục trả hàng hôm qua, bị trừ mất 25% nhận về là 315k .\n",
      "Quá tệ. Tôi mua để sử dụng cô. Sử dụng 2 tháng rưỡi, tháng đầu tiên của loa bị hỏng, được đổi thành máy mới. tháng qua sau, các phím máy tê liệt. Hoàn thành thủ tục giao hàng ngày hôm qua, đã trừ đi 25 bị lạc trong 315k.\n",
      "\n",
      "Sao máy mình mua về bị lỗi vậy nhỉ, tgdd chán quá m nghỉ đã test kỉ rồi mới bán cho khách nên mình không kiểm tra mới mua về bị vậy luôn ..........,\n",
      "Tại sao phải mua máy của mình để khiếm khuyết eh, nhàm chán m tgdd thử nghiệm phá vỡ kỷ và sau đó bán cho khách hàng của họ không nên thử nghiệm thiết bị mới mua nên luôn ..........,\n",
      "\n",
      "Tới mới mua được một tuần cái gì cũng ổn có cái bất 4g quá kém sai lầm mua con này\n",
      "Tôi mơ thấy tôi mua bộ đôi lụa tua ca n c t i mô hình gi ng cu tế bào co ca n i t 4g qua Bật sai m m ke na mua chăm sóc trẻ em\n",
      "\n",
      "Máy dùng ổn, pin khá, giao diện đơn giản, dễ dùng. Mỗi tội là cái thẻ nhớ hay bị mất kết nối.\n",
      "Y du ng ma n tế bào, pin kha, một gia đình giao Die n n, ng du dê. Mo i i la ca bát hoặc thẻ nhớ bị hỏng i t i t-nô lệ.\n",
      "\n"
     ]
    }
   ],
   "source": [
    "for i in range(0, len(ctn_arr), 60):\n",
    "    print(ctn_arr[i])\n",
    "    print(df['negative'][i])\n",
    "    print()"
   ]
  },
  {
   "cell_type": "markdown",
   "metadata": {},
   "source": [
    "### output file csv negative"
   ]
  },
  {
   "cell_type": "code",
   "execution_count": 71,
   "metadata": {},
   "outputs": [],
   "source": [
    "df = pd.DataFrame({'negative': ctn_arr})"
   ]
  },
  {
   "cell_type": "code",
   "execution_count": 72,
   "metadata": {},
   "outputs": [],
   "source": [
    "df.to_csv('negative.csv', encoding='utf-16', sep='\\t')"
   ]
  },
  {
   "cell_type": "markdown",
   "metadata": {},
   "source": [
    "### test translation API"
   ]
  },
  {
   "cell_type": "code",
   "execution_count": 49,
   "metadata": {},
   "outputs": [],
   "source": [
    "translation = translator.translate(ctn_arr[0])"
   ]
  },
  {
   "cell_type": "code",
   "execution_count": 50,
   "metadata": {},
   "outputs": [
    {
     "data": {
      "text/plain": [
       "'I have been using it for 4 months and I feel that the camera is not very good, the battery is ok, the touch does not jump much when I have an induction disorder. Overall disappointed, make sure to wait for s10 to smooth it. Afterwards, I won&#39;t use midrange phones anymore.'"
      ]
     },
     "execution_count": 50,
     "metadata": {},
     "output_type": "execute_result"
    }
   ],
   "source": [
    "translation"
   ]
  },
  {
   "cell_type": "code",
   "execution_count": 52,
   "metadata": {},
   "outputs": [],
   "source": [
    "reTrans = Translator(from_lang='en', to_lang='vi')\n",
    "translation = reTrans.translate(translation)"
   ]
  },
  {
   "cell_type": "code",
   "execution_count": 53,
   "metadata": {},
   "outputs": [
    {
     "data": {
      "text/plain": [
       "'Tôi đã sử dụng được 4 tháng và tôi cảm thấy máy ảnh không tốt lắm, pin ổn, cảm ứng không nhảy nhiều khi tôi bị rối loạn cảm ứng. Nhìn chung là thất vọng, hãy chắc chắn chờ s10 để làm mịn nó. Sau đó, tôi sẽ không sử dụng điện thoại tầm trung nữa.'"
      ]
     },
     "execution_count": 53,
     "metadata": {},
     "output_type": "execute_result"
    }
   ],
   "source": [
    "translation"
   ]
  },
  {
   "cell_type": "code",
   "execution_count": 54,
   "metadata": {},
   "outputs": [
    {
     "data": {
      "text/plain": [
       "'Mình xài được 4 tháng và cảm nhận là camera ko đẹp lắm, pin thì ok, cảm ứng không nhảy nhiều khi bị loạn cảm ứng nữa. Nói chung là thất vọng, chắc lên đợi s10 cho nó mượt. Sau này ko xài điện thoại tầm trung nữa sợ qua.'"
      ]
     },
     "execution_count": 54,
     "metadata": {},
     "output_type": "execute_result"
    }
   ],
   "source": [
    "ctn_arr[0]"
   ]
  }
 ],
 "metadata": {
  "kernelspec": {
   "display_name": "Python 3",
   "language": "python",
   "name": "python3"
  },
  "language_info": {
   "codemirror_mode": {
    "name": "ipython",
    "version": 3
   },
   "file_extension": ".py",
   "mimetype": "text/x-python",
   "name": "python",
   "nbconvert_exporter": "python",
   "pygments_lexer": "ipython3",
   "version": "3.7.1"
  }
 },
 "nbformat": 4,
 "nbformat_minor": 4
}
