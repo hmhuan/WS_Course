{
 "cells": [
  {
   "cell_type": "code",
   "execution_count": 1,
   "metadata": {},
   "outputs": [],
   "source": [
    "import pandas as pd"
   ]
  },
  {
   "cell_type": "code",
   "execution_count": 2,
   "metadata": {},
   "outputs": [],
   "source": [
    "data = pd.read_csv('negative.csv', encoding='utf-16', sep = '\\t')"
   ]
  },
  {
   "cell_type": "code",
   "execution_count": 6,
   "metadata": {},
   "outputs": [],
   "source": [
    "ctn_arr = data['neg']"
   ]
  },
  {
   "cell_type": "code",
   "execution_count": 15,
   "metadata": {},
   "outputs": [],
   "source": [
    "from googletrans import Translator\n",
    "VtoE_translator = Translator()\n",
    "EtoV_translator = Translator()"
   ]
  },
  {
   "cell_type": "code",
   "execution_count": 21,
   "metadata": {},
   "outputs": [
    {
     "data": {
      "text/plain": [
       "'Chơi game lag quá trời, đánh liên quân máy của bạn max mượt, tới máy mình đang combat cái lag, bị chửi suốt... Đồng ý pin trâu nhưng sài đc gần 5 tháng mặc dù rất kỹ, k bao h chơi game hoặc chơi bất kỳ cái gì khi đang sạt luôn mà h để k k sài cũng tuột pin. Hơi thất vọng xíu, mong oppo ra sản phẩm tốt hơn nữa 😉😉. Bạn nào ý định mua máy chơi game thì tốt nhất đừng mua máy này nhe. Còn sài zalo fb thì ok k bàn cãi 😚😚'"
      ]
     },
     "execution_count": 21,
     "metadata": {},
     "output_type": "execute_result"
    }
   ],
   "source": [
    "ctn_arr[500 + 35]"
   ]
  },
  {
   "cell_type": "code",
   "execution_count": 31,
   "metadata": {},
   "outputs": [],
   "source": [
    "import re"
   ]
  },
  {
   "cell_type": "code",
   "execution_count": 53,
   "metadata": {},
   "outputs": [
    {
     "data": {
      "text/plain": [
       "'Chơi game lag quá trời, đánh liên quân máy của bạn max mượt, tới máy mình đang combat cái lag, bị chửi suốt... Đồng ý pin trâu nhưng sài đc gần 5 tháng mặc dù rất kỹ, k bao h chơi game hoặc chơi bất kỳ cái gì khi đang sạt luôn mà h để k k sài cũng tuột pin. Hơi thất vọng xíu, mong oppo ra sản phẩm tốt hơn nữa   . Bạn nào ý định mua máy chơi game thì tốt nhất đừng mua máy này nhe. Còn sài zalo fb thì ok k bàn cãi   '"
      ]
     },
     "execution_count": 53,
     "metadata": {},
     "output_type": "execute_result"
    }
   ],
   "source": [
    "re.sub(r'[^\\w^.^,]', ' ', 'Chơi game lag quá trời, đánh liên quân máy của bạn max mượt, tới máy mình đang combat cái lag, bị chửi suốt... Đồng ý pin trâu nhưng sài đc gần 5 tháng mặc dù rất kỹ, k bao h chơi game hoặc chơi bất kỳ cái gì khi đang sạt luôn mà h để k k sài cũng tuột pin. Hơi thất vọng xíu, mong oppo ra sản phẩm tốt hơn nữa 😉😉. Bạn nào ý định mua máy chơi game thì tốt nhất đừng mua máy này nhe. Còn sài zalo fb thì ok k bàn cãi 😚😚')"
   ]
  },
  {
   "cell_type": "code",
   "execution_count": 10,
   "metadata": {},
   "outputs": [],
   "source": [
    "import time"
   ]
  },
  {
   "cell_type": "code",
   "execution_count": 54,
   "metadata": {},
   "outputs": [],
   "source": [
    "negative_content = []\n",
    "def generate_neg_from_VtoE_EtoV(startId, endId):\n",
    "    s = time.time()\n",
    "    count = 0\n",
    "    for ctn in ctn_arr[startId:endId]:\n",
    "        text = VtoE_translator.translate(re.sub(r'[^\\w^.^,]', ' ',ctn), src='vi', dest='en').text\n",
    "        negative_content.append(EtoV_translator.translate(text, src='en', dest='vi').text)\n",
    "        print('.', end = '')\n",
    "        count+=1\n",
    "        if (count == 100):\n",
    "            count = 0\n",
    "            print()\n",
    "    return (time.time() - s)"
   ]
  },
  {
   "cell_type": "code",
   "execution_count": 58,
   "metadata": {},
   "outputs": [
    {
     "name": "stdout",
     "output_type": "stream",
     "text": [
      "....................................................................................................\n",
      "....................................................................................................\n"
     ]
    },
    {
     "data": {
      "text/plain": [
       "219.00268959999084"
      ]
     },
     "execution_count": 58,
     "metadata": {},
     "output_type": "execute_result"
    }
   ],
   "source": [
    "generate_neg_from_VtoE_EtoV(600, 800)"
   ]
  },
  {
   "cell_type": "code",
   "execution_count": 59,
   "metadata": {},
   "outputs": [
    {
     "name": "stdout",
     "output_type": "stream",
     "text": [
      "....................................................................................................\n",
      "....................................................................................................\n"
     ]
    },
    {
     "data": {
      "text/plain": [
       "252.36092615127563"
      ]
     },
     "execution_count": 59,
     "metadata": {},
     "output_type": "execute_result"
    }
   ],
   "source": [
    "generate_neg_from_VtoE_EtoV(800, 1000)"
   ]
  },
  {
   "cell_type": "code",
   "execution_count": 60,
   "metadata": {},
   "outputs": [],
   "source": [
    "df = pd.DataFrame({'neg': negative_content})\n",
    "df.to_csv('negative_500_1000.csv', encoding='utf-16', sep = '\\t', index = False)"
   ]
  }
 ],
 "metadata": {
  "kernelspec": {
   "display_name": "Python 3",
   "language": "python",
   "name": "python3"
  },
  "language_info": {
   "codemirror_mode": {
    "name": "ipython",
    "version": 3
   },
   "file_extension": ".py",
   "mimetype": "text/x-python",
   "name": "python",
   "nbconvert_exporter": "python",
   "pygments_lexer": "ipython3",
   "version": "3.7.1"
  }
 },
 "nbformat": 4,
 "nbformat_minor": 4
}
